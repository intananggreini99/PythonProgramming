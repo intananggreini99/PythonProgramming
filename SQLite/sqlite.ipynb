{
 "cells": [
  {
   "cell_type": "code",
   "execution_count": 1,
   "id": "7c6790bf",
   "metadata": {},
   "outputs": [
    {
     "name": "stdout",
     "output_type": "stream",
     "text": [
      "Input nilai harus berupa angka.\n"
     ]
    },
    {
     "ename": "NameError",
     "evalue": "name 'score' is not defined",
     "output_type": "error",
     "traceback": [
      "\u001b[31m---------------------------------------------------------------------------\u001b[39m",
      "\u001b[31mNameError\u001b[39m                                 Traceback (most recent call last)",
      "\u001b[36mCell\u001b[39m\u001b[36m \u001b[39m\u001b[32mIn[1]\u001b[39m\u001b[32m, line 43\u001b[39m\n\u001b[32m     40\u001b[39m     \u001b[38;5;28mprint\u001b[39m(\u001b[33m\"\u001b[39m\u001b[33mInput nilai harus berupa angka.\u001b[39m\u001b[33m\"\u001b[39m)\n\u001b[32m     41\u001b[39m     log.error(\u001b[33mf\u001b[39m\u001b[33m\"\u001b[39m\u001b[33mInput nilai tidak valid untuk \u001b[39m\u001b[38;5;132;01m{\u001b[39;00mname\u001b[38;5;132;01m}\u001b[39;00m\u001b[33m.\u001b[39m\u001b[33m\"\u001b[39m)\n\u001b[32m---> \u001b[39m\u001b[32m43\u001b[39m \u001b[38;5;28;01mif\u001b[39;00m isInValid(\u001b[43mscore\u001b[49m):\n\u001b[32m     44\u001b[39m     \u001b[38;5;28mprint\u001b[39m(\u001b[33m\"\u001b[39m\u001b[33mNilai harus berada di antara 0 hingga 100.\u001b[39m\u001b[33m\"\u001b[39m)\n\u001b[32m     45\u001b[39m     log.error(\u001b[33mf\u001b[39m\u001b[33m\"\u001b[39m\u001b[33mNilai \u001b[39m\u001b[38;5;132;01m{\u001b[39;00mname\u001b[38;5;132;01m}\u001b[39;00m\u001b[33m tidak valid: \u001b[39m\u001b[38;5;132;01m{\u001b[39;00mscore\u001b[38;5;132;01m}\u001b[39;00m\u001b[33m\"\u001b[39m)\n",
      "\u001b[31mNameError\u001b[39m: name 'score' is not defined"
     ]
    }
   ],
   "source": [
    "import logging as log\n",
    "import sqlite3\n",
    "\n",
    "logger = log.getLogger('Logger_Penilaian_Mahasiswa')\n",
    "log.basicConfig(level=log.DEBUG,\n",
    "                    filename='__app.log',\n",
    "                    filemode='w',\n",
    "                    format='%(asctime)s - %(levelname)s - %(message)s',\n",
    "                    datefmt='%Y-%m-%d %H:%M:%S')\n",
    "\n",
    "cdb = sqlite3.connect(\"mahasiswa.db\")\n",
    "cursor = cdb.cursor()\n",
    "\n",
    "cursor.executescript('''\n",
    "    CREATE TABLE IF NOT EXISTS mhsmain (\n",
    "        id INTEGER PRIMARY KEY AUTOINCREMENT,\n",
    "        name TEXT NOT NULL\n",
    "    );\n",
    "\n",
    "    CREATE TABLE IF NOT EXISTS mhsnilai (\n",
    "        id INTEGER PRIMARY KEY AUTOINCREMENT,\n",
    "        id_mhs INTEGER,\n",
    "        nilai REAL,\n",
    "        FOREIGN KEY(id_mhs) REFERENCES mhsmain(id)\n",
    "    );\n",
    "''')\n",
    "\n",
    "admin = input(\"Masukkan nama anda (penginput data) :\")\n",
    "\n",
    "def isInValid(score):\n",
    "    return not (0 <= score <= 100)\n",
    "\n",
    "while True:   \n",
    "\n",
    "    name = input(\"Masukkan nama mahasiswa: \") \n",
    "    try:\n",
    "        score = float(input(\"Masukkan nilai mahasiswa (0-100): \"))\n",
    "        \n",
    "    except ValueError:\n",
    "        print(\"Input nilai harus berupa angka.\")\n",
    "        log.error(f\"Input nilai tidak valid untuk {name}.\")\n",
    "\n",
    "    if isInValid(score):\n",
    "        print(\"Nilai harus berada di antara 0 hingga 100.\")\n",
    "        log.error(f\"Nilai {name} tidak valid: {score}\")\n",
    "    \n",
    "\n",
    "    cursor.execute(\"INSERT INTO mhsmain (name) VALUES (?)\", (name,))\n",
    "    mahasiswa_id = cursor.lastrowid\n",
    "\n",
    "    cursor.execute(\"INSERT INTO mhsnilai (id_mhs, nilai) VALUES (?, ?)\", (mahasiswa_id, score))\n",
    "\n",
    "    log.debug(f\"User {admin} - Input Data - {name} : {score}\")\n",
    "\n",
    "    cdb.commit()\n",
    "    log.info(f\"Data nilai untuk {name} berhasil disimpan.\")\n",
    "\n",
    "    if input(\"Ulang lagi (y/t)? \").lower() == \"t\":\n",
    "        cdb.close()\n",
    "        break\n"
   ]
  },
  {
   "cell_type": "code",
   "execution_count": 14,
   "id": "260147f2",
   "metadata": {},
   "outputs": [
    {
     "name": "stdout",
     "output_type": "stream",
     "text": [
      "1 => intan\n",
      "2 => alfian\n"
     ]
    }
   ],
   "source": [
    "import sqlite3\n",
    "\n",
    "cdb = sqlite3.connect(\"mahasiswa.db\")\n",
    "cursor = cdb.cursor()\n",
    "\n",
    "cursor.execute(\"SELECT * FROM mhsmain\")\n",
    "data = cursor.fetchall()\n",
    "for id, name in data:\n",
    "  print(f\"{id} => {name}\")\n",
    "\n",
    "cdb.close()"
   ]
  },
  {
   "cell_type": "code",
   "execution_count": 15,
   "id": "d67d2753",
   "metadata": {},
   "outputs": [
    {
     "name": "stdout",
     "output_type": "stream",
     "text": [
      "Mahasiswa dengan ID 1 memiliki nilai 89.0\n",
      "Mahasiswa dengan ID 2 memiliki nilai 99.7\n"
     ]
    }
   ],
   "source": [
    "import sqlite3\n",
    "\n",
    "cdb = sqlite3.connect(\"mahasiswa.db\")\n",
    "cursor = cdb.cursor()\n",
    "\n",
    "cursor.execute(\"SELECT * FROM mhsnilai\")\n",
    "dataVal = cursor.fetchall()\n",
    "for id,id_mhs, nilai in dataVal:\n",
    "  print(f\"Mahasiswa dengan ID {id_mhs} memiliki nilai {nilai}\")\n",
    "\n",
    "cdb.close()"
   ]
  },
  {
   "cell_type": "code",
   "execution_count": 12,
   "id": "05c7ef3e",
   "metadata": {},
   "outputs": [],
   "source": [
    "import sqlite3\n",
    "\n",
    "cdb = sqlite3.connect(\"mahasiswa.db\")\n",
    "cursor = cdb.cursor()\n",
    "\n",
    "cursor.execute(\"DROP TABLE mhsmain\")\n",
    "cursor.execute(\"DROP TABLE mhsnilai\")\n",
    "\n",
    "cdb.close()"
   ]
  }
 ],
 "metadata": {
  "kernelspec": {
   "display_name": "Python 3",
   "language": "python",
   "name": "python3"
  },
  "language_info": {
   "codemirror_mode": {
    "name": "ipython",
    "version": 3
   },
   "file_extension": ".py",
   "mimetype": "text/x-python",
   "name": "python",
   "nbconvert_exporter": "python",
   "pygments_lexer": "ipython3",
   "version": "3.13.3"
  }
 },
 "nbformat": 4,
 "nbformat_minor": 5
}
