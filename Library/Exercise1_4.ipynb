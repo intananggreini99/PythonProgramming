{
  "cells": [
    {
      "cell_type": "markdown",
      "metadata": {
        "id": "uycSkd0qmT2-"
      },
      "source": [
        "# **Exercise 1**"
      ]
    },
    {
      "cell_type": "markdown",
      "metadata": {
        "id": "qsfw4phODzqA"
      },
      "source": [
        "*   Which standard library module could help you?\n",
        "\n",
        "Date module in datetime library\n",
        "*   Which function would you select from that module?\n",
        "\n",
        "Function date with 3 parameters (year, month, and day).\n",
        "*   Try to write a program that uses the function.\n"
      ]
    },
    {
      "cell_type": "code",
      "execution_count": 1,
      "metadata": {
        "colab": {
          "base_uri": "https://localhost:8080/"
        },
        "id": "Up83ExPiZ7zv",
        "outputId": "29ceaf34-a44d-4a84-abac-b0e9c7fa94cf"
      },
      "outputs": [
        {
          "name": "stdout",
          "output_type": "stream",
          "text": [
            "25\n",
            "3\n",
            "2021\n",
            "<class 'datetime.date'>\n"
          ]
        }
      ],
      "source": [
        "from datetime import date as dt\n",
        "\n",
        "year = 2021\n",
        "month = 3\n",
        "day = 25\n",
        "\n",
        "date = [dt(month=3,year=2021,day=25)]\n",
        "print(date[0].day)\n",
        "print(date[0].month)\n",
        "print(date[0].year)\n",
        "print(type(date[0]))"
      ]
    },
    {
      "cell_type": "markdown",
      "metadata": {
        "id": "2HkGdn5JDg8k"
      },
      "source": [
        "# **Exercise 2**"
      ]
    },
    {
      "cell_type": "markdown",
      "metadata": {
        "id": "fDUzFqBkEO7l"
      },
      "source": [
        "*   Fill in the blanks so that the program below prints abcdefghijklmnopqrstuvwxyz.\n",
        "*  Rewrite the program so that it uses import without as.\n",
        "\n"
      ]
    },
    {
      "cell_type": "code",
      "execution_count": 2,
      "metadata": {
        "colab": {
          "base_uri": "https://localhost:8080/",
          "height": 36
        },
        "id": "oHBBR2qIlHDc",
        "outputId": "6e89cd37-a123-4b4e-d7e3-40ebec1580ee"
      },
      "outputs": [
        {
          "data": {
            "text/plain": [
              "'abcdefghijklmnopqrstuvwxyz'"
            ]
          },
          "execution_count": 2,
          "metadata": {},
          "output_type": "execute_result"
        }
      ],
      "source": [
        "import string as s\n",
        "numbers = s.ascii_lowercase\n",
        "numbers"
      ]
    },
    {
      "cell_type": "code",
      "execution_count": 3,
      "metadata": {
        "colab": {
          "base_uri": "https://localhost:8080/",
          "height": 36
        },
        "id": "HxFV_o6Ko6Yt",
        "outputId": "02746e92-d9e9-4c9f-f5e2-a83d258fd76b"
      },
      "outputs": [
        {
          "data": {
            "text/plain": [
              "'abcdefghijklmnopqrstuvwxyz'"
            ]
          },
          "execution_count": 3,
          "metadata": {},
          "output_type": "execute_result"
        }
      ],
      "source": [
        "import string\n",
        "numbers = string.ascii_lowercase\n",
        "numbers"
      ]
    },
    {
      "cell_type": "markdown",
      "metadata": {
        "id": "D4XE9ShrEois"
      },
      "source": [
        "*   Which form do you find easier to read?\n",
        "\n",
        "I'm prefer to use alias name for easier read program, but we have to know the alias name from the library would called. From my point of view, this is the best practice of called library or module in python."
      ]
    },
    {
      "cell_type": "markdown",
      "metadata": {
        "id": "x50SAq63E9x0"
      },
      "source": [
        "# **Exercise 3**\n",
        "\n",
        "Create appropriate library calls for datetime library thus the following print statement can be executed:"
      ]
    },
    {
      "cell_type": "markdown",
      "metadata": {
        "id": "f3vXDmQVKqfb"
      },
      "source": [
        "*   Import Constants Object (Spesific Object) from Module"
      ]
    },
    {
      "cell_type": "code",
      "execution_count": 4,
      "metadata": {
        "colab": {
          "base_uri": "https://localhost:8080/"
        },
        "id": "p46F5Z6XBxLW",
        "outputId": "3c7ebf75-03e9-4faa-9b8b-8181ae64bc61"
      },
      "outputs": [
        {
          "name": "stdout",
          "output_type": "stream",
          "text": [
            "1\n"
          ]
        }
      ],
      "source": [
        "from datetime import MINYEAR\n",
        "print(MINYEAR)"
      ]
    },
    {
      "cell_type": "markdown",
      "metadata": {
        "id": "jto-fCf-KbZB"
      },
      "source": [
        "*   Import Module in General"
      ]
    },
    {
      "cell_type": "code",
      "execution_count": 5,
      "metadata": {
        "colab": {
          "base_uri": "https://localhost:8080/"
        },
        "id": "4GIWAKooNh_K",
        "outputId": "6fab6b2e-4116-4049-f875-bbb4fbd79d75"
      },
      "outputs": [
        {
          "name": "stdout",
          "output_type": "stream",
          "text": [
            "9999\n"
          ]
        }
      ],
      "source": [
        "import datetime\n",
        "print(datetime.MAXYEAR)"
      ]
    },
    {
      "cell_type": "markdown",
      "metadata": {
        "id": "GWzj9EmxMXpM"
      },
      "source": [
        "*   Import Module with Alias"
      ]
    },
    {
      "cell_type": "code",
      "execution_count": 6,
      "metadata": {
        "colab": {
          "base_uri": "https://localhost:8080/"
        },
        "id": "Kehh3r02F_iO",
        "outputId": "c54a4654-0c2b-4951-e22c-e372cf6921cc"
      },
      "outputs": [
        {
          "name": "stdout",
          "output_type": "stream",
          "text": [
            "2002-12-30\n"
          ]
        }
      ],
      "source": [
        "import datetime as dt\n",
        "print(dt.date(2002, 12, 30))"
      ]
    },
    {
      "cell_type": "markdown",
      "metadata": {
        "id": "yIID_3RAOX3Q"
      },
      "source": [
        "Import spesific module or class or method from the library can the program easier processed."
      ]
    },
    {
      "cell_type": "markdown",
      "metadata": {
        "id": "CpyRNv7yRY8u"
      },
      "source": [
        "# **Exercise 4**\n",
        "Using the same module as Exercise 1, try to write a program which returns:"
      ]
    },
    {
      "cell_type": "markdown",
      "metadata": {
        "id": "JzHSoImQUFAa"
      },
      "source": [
        "*   The difference between today and a particular  date\n",
        "\n",
        "Dari percobaan menjalankan program dibawah ini, saya mendapati perbedaan antara today dan date bahwa date merupakan class yang terdapat pada library datetime sedangkan today merupakan method yang terdapat pada class date dalam library datetime"
      ]
    },
    {
      "cell_type": "code",
      "execution_count": 7,
      "metadata": {
        "colab": {
          "base_uri": "https://localhost:8080/"
        },
        "id": "o5wQRjRKRzZ6",
        "outputId": "c1a6085a-64e6-427d-cbb4-094576137403"
      },
      "outputs": [
        {
          "data": {
            "text/plain": [
              "datetime.date(2025, 4, 10)"
            ]
          },
          "execution_count": 7,
          "metadata": {},
          "output_type": "execute_result"
        }
      ],
      "source": [
        "from datetime import date\n",
        "today = date.today()\n",
        "today"
      ]
    },
    {
      "cell_type": "markdown",
      "metadata": {
        "id": "JXU7PDBRURGD"
      },
      "source": [
        "*   The day of a particular date.\n",
        "\n",
        "Hubungan antara date dengan day yakni:\n",
        "\n",
        "Dalam modul datetime terdapat beberapa objek salah satunya objek date yang ketika memanggil objek date ini memerlukan beberapa inputan argumen salah satunya day yang merepresentasikan urutan hari atau tanggal dalam satu bulan.\n"
      ]
    },
    {
      "cell_type": "code",
      "execution_count": 8,
      "metadata": {
        "colab": {
          "base_uri": "https://localhost:8080/"
        },
        "id": "7PwG7p7Aj--_",
        "outputId": "ff613b7c-6f60-4e8b-b575-bc4efaa595c8"
      },
      "outputs": [
        {
          "data": {
            "text/plain": [
              "datetime.date(2025, 1, 1)"
            ]
          },
          "execution_count": 8,
          "metadata": {},
          "output_type": "execute_result"
        }
      ],
      "source": [
        "from datetime import date\n",
        "date(2025,1,1)"
      ]
    },
    {
      "cell_type": "code",
      "execution_count": 9,
      "metadata": {
        "colab": {
          "base_uri": "https://localhost:8080/"
        },
        "id": "GWd-enpukmDT",
        "outputId": "b8f5d20f-113d-40af-f22f-d508be471302"
      },
      "outputs": [
        {
          "name": "stdout",
          "output_type": "stream",
          "text": [
            "Help on class date in module datetime:\n",
            "\n",
            "class date(builtins.object)\n",
            " |  date(year, month, day) --> date object\n",
            " |\n",
            " |  Methods defined here:\n",
            " |\n",
            " |  __add__(self, value, /)\n",
            " |      Return self+value.\n",
            " |\n",
            " |  __eq__(self, value, /)\n",
            " |      Return self==value.\n",
            " |\n",
            " |  __format__(...)\n",
            " |      Formats self with strftime.\n",
            " |\n",
            " |  __ge__(self, value, /)\n",
            " |      Return self>=value.\n",
            " |\n",
            " |  __gt__(self, value, /)\n",
            " |      Return self>value.\n",
            " |\n",
            " |  __hash__(self, /)\n",
            " |      Return hash(self).\n",
            " |\n",
            " |  __le__(self, value, /)\n",
            " |      Return self<=value.\n",
            " |\n",
            " |  __lt__(self, value, /)\n",
            " |      Return self<value.\n",
            " |\n",
            " |  __ne__(self, value, /)\n",
            " |      Return self!=value.\n",
            " |\n",
            " |  __radd__(self, value, /)\n",
            " |      Return value+self.\n",
            " |\n",
            " |  __reduce__(self, /)\n",
            " |      __reduce__() -> (cls, state)\n",
            " |\n",
            " |  __replace__(self, /, **changes)\n",
            " |      The same as replace().\n",
            " |\n",
            " |  __repr__(self, /)\n",
            " |      Return repr(self).\n",
            " |\n",
            " |  __rsub__(self, value, /)\n",
            " |      Return value-self.\n",
            " |\n",
            " |  __str__(self, /)\n",
            " |      Return str(self).\n",
            " |\n",
            " |  __sub__(self, value, /)\n",
            " |      Return self-value.\n",
            " |\n",
            " |  ctime(self, /)\n",
            " |      Return ctime() style string.\n",
            " |\n",
            " |  isocalendar(self, /)\n",
            " |      Return a named tuple containing ISO year, week number, and weekday.\n",
            " |\n",
            " |  isoformat(self, /)\n",
            " |      Return string in ISO 8601 format, YYYY-MM-DD.\n",
            " |\n",
            " |  isoweekday(self, /)\n",
            " |      Return the day of the week represented by the date.\n",
            " |      Monday == 1 ... Sunday == 7\n",
            " |\n",
            " |  replace(self, /, year=unchanged, month=unchanged, day=unchanged)\n",
            " |      Return date with new specified fields.\n",
            " |\n",
            " |  strftime(...)\n",
            " |      format -> strftime() style string.\n",
            " |\n",
            " |  timetuple(self, /)\n",
            " |      Return time tuple, compatible with time.localtime().\n",
            " |\n",
            " |  toordinal(self, /)\n",
            " |      Return proleptic Gregorian ordinal.  January 1 of year 1 is day 1.\n",
            " |\n",
            " |  weekday(self, /)\n",
            " |      Return the day of the week represented by the date.\n",
            " |      Monday == 0 ... Sunday == 6\n",
            " |\n",
            " |  ----------------------------------------------------------------------\n",
            " |  Class methods defined here:\n",
            " |\n",
            " |  fromisocalendar(...)\n",
            " |      int, int, int -> Construct a date from the ISO year, week number and weekday.\n",
            " |\n",
            " |      This is the inverse of the date.isocalendar() function\n",
            " |\n",
            " |  fromisoformat(object, /)\n",
            " |      str -> Construct a date from a string in ISO 8601 format.\n",
            " |\n",
            " |  fromordinal(...)\n",
            " |      int -> date corresponding to a proleptic Gregorian ordinal.\n",
            " |\n",
            " |  fromtimestamp(timestamp, /)\n",
            " |      Create a date from a POSIX timestamp.\n",
            " |\n",
            " |      The timestamp is a number, e.g. created via time.time(), that is interpreted\n",
            " |      as local time.\n",
            " |\n",
            " |  today()\n",
            " |      Current date or datetime:  same as self.__class__.fromtimestamp(time.time()).\n",
            " |\n",
            " |  ----------------------------------------------------------------------\n",
            " |  Static methods defined here:\n",
            " |\n",
            " |  __new__(*args, **kwargs)\n",
            " |      Create and return a new object.  See help(type) for accurate signature.\n",
            " |\n",
            " |  ----------------------------------------------------------------------\n",
            " |  Data descriptors defined here:\n",
            " |\n",
            " |  day\n",
            " |\n",
            " |  month\n",
            " |\n",
            " |  year\n",
            " |\n",
            " |  ----------------------------------------------------------------------\n",
            " |  Data and other attributes defined here:\n",
            " |\n",
            " |  max = datetime.date(9999, 12, 31)\n",
            " |\n",
            " |  min = datetime.date(1, 1, 1)\n",
            " |\n",
            " |  resolution = datetime.timedelta(days=1)\n",
            "\n"
          ]
        }
      ],
      "source": [
        "help(date)"
      ]
    }
  ],
  "metadata": {
    "colab": {
      "provenance": []
    },
    "kernelspec": {
      "display_name": "Python 3",
      "name": "python3"
    },
    "language_info": {
      "codemirror_mode": {
        "name": "ipython",
        "version": 3
      },
      "file_extension": ".py",
      "mimetype": "text/x-python",
      "name": "python",
      "nbconvert_exporter": "python",
      "pygments_lexer": "ipython3",
      "version": "3.13.2"
    }
  },
  "nbformat": 4,
  "nbformat_minor": 0
}
