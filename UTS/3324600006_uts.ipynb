{
 "cells": [
  {
   "cell_type": "code",
   "execution_count": 12,
   "id": "a50cf4b5",
   "metadata": {},
   "outputs": [
    {
     "name": "stdout",
     "output_type": "stream",
     "text": [
      "File harus berekstensi .txt\n",
      "File harus berekstensi .txt\n",
      "File log.txt tidak ditemukan\n"
     ]
    }
   ],
   "source": [
    "import re\n",
    "\n",
    "def cariCari():\n",
    "\n",
    "    while True:\n",
    "        try:\n",
    "            file_path = (input(\"Masukkan nama file yang ingin dibaca: \")).lower()\n",
    "            cek = file_path.endswith(\".txt\")\n",
    "            if cek is False :\n",
    "                raise Exception\n",
    "            break\n",
    "        except Exception:\n",
    "            print(\"File harus berekstensi .txt\")\n",
    "\n",
    "    try:\n",
    "        \n",
    "        with open(file_path, 'r', encoding='utf-8') as file:\n",
    "            text = file.read()\n",
    "        \n",
    "        ketemu = [ ]\n",
    "        uniqKetemu = set(ketemu)\n",
    "        cariActLog = re.findall(r'[A-Z_]+(?=:)',text,re.MULTILINE)\n",
    "        for act in cariActLog:\n",
    "            ketemu.append(act)\n",
    "\n",
    "        countKetemu = [ ]\n",
    "        for x in uniqKetemu:\n",
    "            counting = ketemu.count(x)\n",
    "            countKetemu.append(counting)\n",
    "\n",
    "        dictAct = {act:jumAct for (act,jumAct) in zip(uniqKetemu,countKetemu)}\n",
    "        \n",
    "        print(\"File log_aktivitas.txt behasil dibaca\")\n",
    "        print(f\"\"\"Daftar aktivitas yang ditemukan :\n",
    "              {ketemu}\"\"\")\n",
    "        \n",
    "        print(\"Frekuensi tiap aktivitas :\")\n",
    "        for key, value in dictAct.items():\n",
    "             print(f\"{key} : {value}\")\n",
    "\n",
    "    except FileNotFoundError:\n",
    "        print(f\"File log.txt tidak ditemukan\")\n",
    "    \n",
    "\n",
    "cariCari()\n"
   ]
  },
  {
   "cell_type": "code",
   "execution_count": null,
   "id": "110b32e3",
   "metadata": {},
   "outputs": [
    {
     "name": "stdout",
     "output_type": "stream",
     "text": [
      "[2, 2, 1, 1, 3, 3, 1, 1, 1]\n",
      "{'LOGOUT': 2, 'ID': 2, 'UPDATE_PROFILE': 1, 'CHECKOUT': 1, 'VIEW_PAGE': 3, 'LOGIN': 3, 'ERROR': 1, 'ADD_TO_CART': 1, 'CLICK_BUTTON': 1}\n"
     ]
    }
   ],
   "source": [
    "ketemu = ['LOGIN', 'VIEW_PAGE', 'CLICK_BUTTON', 'LOGOUT', 'LOGIN', 'VIEW_PAGE', 'UPDATE_PROFILE', 'ERROR', 'LOGIN', 'VIEW_PAGE', 'ADD_TO_CART', 'ID', 'CHECKOUT', 'ID', 'LOGOUT']\n",
    "unique = set(ketemu)\n",
    "countKetemu = [ ]\n",
    "for x in unique:\n",
    "    counting = ketemu.count(x)\n",
    "    countKetemu.append(counting)\n",
    "dictAct = {act:jumAct for (act,jumAct) in zip(unique,countKetemu)}\n"
   ]
  },
  {
   "cell_type": "code",
   "execution_count": null,
   "id": "ad22df1f",
   "metadata": {},
   "outputs": [
    {
     "name": "stdout",
     "output_type": "stream",
     "text": [
      "<re.Match object; span=(0, 5), match='LOGIN'>\n",
      "None\n",
      "None\n",
      "None\n",
      "<re.Match object; span=(0, 5), match='LOGIN'>\n",
      "None\n",
      "None\n",
      "None\n",
      "<re.Match object; span=(0, 5), match='LOGIN'>\n",
      "None\n",
      "None\n",
      "None\n",
      "None\n",
      "None\n",
      "None\n"
     ]
    }
   ],
   "source": [
    "import re\n",
    "file_path = input(\"Masukkan nama file yang ingin dibaca: \")\n",
    "with open(file_path, 'r', encoding='utf-8') as file:\n",
    "            text = file.read()\n",
    "ketemu = [ ]\n",
    "cariKata = re.findall(r'[A-Z_]+(?=:)',text)\n",
    "for i in cariKata:\n",
    "        ketemu.append(i)\n",
    "\n",
    "for a in ketemu:\n",
    "    cLogin = re.search(r\"LOGIN\",a)\n",
    "    \n",
    "    print(cLogin)"
   ]
  },
  {
   "cell_type": "code",
   "execution_count": null,
   "id": "269cc32f",
   "metadata": {},
   "outputs": [
    {
     "name": "stdout",
     "output_type": "stream",
     "text": [
      "['yayya', 'txt']\n"
     ]
    }
   ],
   "source": [
    "import re\n",
    "file = input(\"Oke:\")\n",
    "cek = re.split(\"[.]\",file)\n",
    "for format in cek:\n",
    "            result = re.match(\"txt\",format)\n",
    "            if result == True :\n",
    "                    print(\"oKE\")"
   ]
  },
  {
   "cell_type": "code",
   "execution_count": 1,
   "id": "41d79daf",
   "metadata": {},
   "outputs": [
    {
     "data": {
      "text/plain": [
       "True"
      ]
     },
     "execution_count": 1,
     "metadata": {},
     "output_type": "execute_result"
    }
   ],
   "source": [
    "file_path = \"intan.txt\"\n",
    "cek = file_path.endswith(\".txt\")\n",
    "cek"
   ]
  }
 ],
 "metadata": {
  "kernelspec": {
   "display_name": "Python 3",
   "language": "python",
   "name": "python3"
  },
  "language_info": {
   "codemirror_mode": {
    "name": "ipython",
    "version": 3
   },
   "file_extension": ".py",
   "mimetype": "text/x-python",
   "name": "python",
   "nbconvert_exporter": "python",
   "pygments_lexer": "ipython3",
   "version": "3.13.3"
  }
 },
 "nbformat": 4,
 "nbformat_minor": 5
}
