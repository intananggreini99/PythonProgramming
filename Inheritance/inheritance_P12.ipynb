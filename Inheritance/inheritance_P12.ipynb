{
  "nbformat": 4,
  "nbformat_minor": 0,
  "metadata": {
    "colab": {
      "provenance": []
    },
    "kernelspec": {
      "name": "python3",
      "display_name": "Python 3"
    },
    "language_info": {
      "name": "python"
    }
  },
  "cells": [
    {
      "cell_type": "markdown",
      "source": [
        "#**Latihan 1**"
      ],
      "metadata": {
        "id": "MhGO8VpPn1wE"
      }
    },
    {
      "cell_type": "code",
      "source": [
        "from datetime import datetime,time\n",
        "\n",
        "class Restaurant:\n",
        "  def __init__(self,nama,tipe):\n",
        "    self.name = nama\n",
        "    self.cuisine_type = tipe\n",
        "\n",
        "  def describe_restaurant(self):\n",
        "    print(f\"Restoran {self.name} adalah booth makanan yang menyediakan berbagai \\nmakanan berjenis {self.cuisine_type} yang mulai beroperasi mulai \\ndari pukul 8 A.M. - 6 P.M.\")\n",
        "\n",
        "  def open_restaurant(self):\n",
        "        now = datetime.now().time().replace(second=0, microsecond=0)\n",
        "        opening_time = time(8, 0)\n",
        "        closing_time = time(18, 0)\n",
        "        if opening_time <= now < closing_time:\n",
        "            print(f\"{self.name} restaurant is OPEN.\")\n",
        "        else:\n",
        "            print(f\"{self.name} restaurant is CLOSED.\")"
      ],
      "metadata": {
        "id": "CK6v5mGWq_GN"
      },
      "execution_count": null,
      "outputs": []
    },
    {
      "cell_type": "code",
      "source": [
        "food1 = Restaurant(\"Bakso Barokah\",\"Main Course\")\n",
        "food2 = Restaurant(\"Bolu Joyoboyo\",\"Dessert\")"
      ],
      "metadata": {
        "id": "sCKaXYdytYAl"
      },
      "execution_count": null,
      "outputs": []
    },
    {
      "cell_type": "code",
      "source": [
        "food2.describe_restaurant()"
      ],
      "metadata": {
        "colab": {
          "base_uri": "https://localhost:8080/"
        },
        "id": "89ZtWFYKvZpQ",
        "outputId": "71a0382f-78fe-459b-d7c6-e0a4071afef6"
      },
      "execution_count": null,
      "outputs": [
        {
          "output_type": "stream",
          "name": "stdout",
          "text": [
            "Restoran Bolu Joyoboyo adalah booth makanan yang menyediakan berbagai \n",
            "makanan berjenis Dessert yang mulai beroperasi mulai \n",
            "dari pukul 8 A.M. - 6 P.M.\n"
          ]
        }
      ]
    },
    {
      "cell_type": "code",
      "source": [
        "food1.describe_restaurant()"
      ],
      "metadata": {
        "colab": {
          "base_uri": "https://localhost:8080/"
        },
        "id": "eSMsoVJ_iKEO",
        "outputId": "b4a9b4f7-b9bd-4ac8-ef21-42c1c84cd6b7"
      },
      "execution_count": null,
      "outputs": [
        {
          "output_type": "stream",
          "name": "stdout",
          "text": [
            "Restoran Bakso Barokah adalah booth makanan yang menyediakan berbagai \n",
            "makanan berjenis Main Course yang mulai beroperasi mulai \n",
            "dari pukul 8 A.M. - 6 P.M.\n"
          ]
        }
      ]
    },
    {
      "cell_type": "markdown",
      "source": [
        "#**Latihan 2**"
      ],
      "metadata": {
        "id": "2YAtC4g5n7YD"
      }
    },
    {
      "cell_type": "code",
      "source": [
        "class IceCreamStall(Restaurant):\n",
        "  def __init__(self,nama,tipe,flavors):\n",
        "    super().__init__(nama,tipe)\n",
        "    self.flavors = list(flavors)\n",
        "\n",
        "  def show_flavors(self):\n",
        "    print(f\"List Ice Cream Flavors from {self.name}:\")\n",
        "    for i,a in enumerate(self.flavors):\n",
        "      print(f\"{i+1}. {a}\")"
      ],
      "metadata": {
        "id": "h9bocHuwwQ7L"
      },
      "execution_count": null,
      "outputs": []
    },
    {
      "cell_type": "code",
      "source": [
        "ice1 = IceCreamStall(\"Tok Aba Snow\",\"Gelato\",[\"Vanilla\",\"Chocolate\",\"Strawberry\",\"Peanut Choco\"])\n",
        "food3 = Restaurant(\"Funny Juice\",\"Minuman\")"
      ],
      "metadata": {
        "id": "66zIsFuYzo5A"
      },
      "execution_count": null,
      "outputs": []
    },
    {
      "cell_type": "code",
      "source": [
        "print(\"Uji Coba Objek dari Class IceCreamStall.\")\n",
        "ice1.describe_restaurant()\n",
        "ice1.open_restaurant()\n",
        "ice1.show_flavors()\n",
        "print(\"=\"*150)\n",
        "print(\"Uji Coba Objek dari Class Restaurant.\")\n",
        "food3.describe_restaurant()\n",
        "food3.open_restaurant()"
      ],
      "metadata": {
        "colab": {
          "base_uri": "https://localhost:8080/"
        },
        "id": "Yp2gim_T068S",
        "outputId": "94c6dfb8-5505-4b48-cf8f-cc576f5b78bd"
      },
      "execution_count": null,
      "outputs": [
        {
          "output_type": "stream",
          "name": "stdout",
          "text": [
            "Uji Coba Objek dari Class IceCreamStall.\n",
            "Restoran Tok Aba Snow adalah booth makanan yang menyediakan berbagai \n",
            "makanan berjenis Gelato yang mulai beroperasi mulai \n",
            "dari pukul 8 A.M. - 6 P.M.\n",
            "Tok Aba Snow restaurant is CLOSED.\n",
            "List Ice Cream Flavors from Tok Aba Snow:\n",
            "1. Vanilla\n",
            "2. Chocolate\n",
            "3. Strawberry\n",
            "4. Peanut Choco\n",
            "======================================================================================================================================================\n",
            "Uji Coba Objek dari Class Restaurant.\n",
            "Restoran Funny Juice adalah booth makanan yang menyediakan berbagai \n",
            "makanan berjenis Minuman yang mulai beroperasi mulai \n",
            "dari pukul 8 A.M. - 6 P.M.\n",
            "Funny Juice restaurant is CLOSED.\n"
          ]
        }
      ]
    },
    {
      "cell_type": "markdown",
      "source": [
        "#**Latihan 3**"
      ],
      "metadata": {
        "id": "CFVbTbdMoCqC"
      }
    },
    {
      "cell_type": "code",
      "source": [
        "class IceCreamStall(Restaurant):\n",
        "  def __init__(self,nama,tipe,flavors):\n",
        "    super().__init__(nama,tipe)\n",
        "    self.flavors = list(flavors)\n",
        "\n",
        "  def show_flavors(self):\n",
        "    print(f\"List Ice Cream Flavors from {self.name}:\")\n",
        "    for i,a in enumerate(self.flavors):\n",
        "      print(f\"{i+1}. {a}\")\n",
        "\n",
        "  def describe_restaurant(self):\n",
        "    super().describe_restaurant()\n",
        "    string_list = ', '.join(self.flavors)\n",
        "    if self.cuisine_type.lower() == \"gelato\":\n",
        "      print(f'Kedai ice cream {self.name} menyediakan ice cream berjenis {self.cuisine_type}.\\nGelato dibuat dari campuran bahan utama seperti susu, krim, dan gula.\\nNamun gelato memiliki kandungan lemak yang lebih sedikit dibanding es krim.')\n",
        "    elif self.cuisine_type.lower() == \"ice cream\":\n",
        "      print(f\"Kedai Ice Cream {self.name} menyediakan ice cream dengan berbagai wadah, ukuran dan rasa.\\nBerbagai rasa ice cream yang tersedia antara lain: {string_list}.\")"
      ],
      "metadata": {
        "id": "TaGHZtHh6iYh"
      },
      "execution_count": null,
      "outputs": []
    },
    {
      "cell_type": "code",
      "source": [
        "ice1 = IceCreamStall(\"Tok Aba Snow\",\"Gelato\",[\"Vanilla\",\"Chocolate\",\"Strawberry\",\"Peanut Choco\"])\n",
        "food3 = Restaurant(\"Funny Juice\",\"Minuman\")"
      ],
      "metadata": {
        "id": "0w6xZbEG84Jn"
      },
      "execution_count": null,
      "outputs": []
    },
    {
      "cell_type": "code",
      "source": [
        "print(\"Uji Coba Objek dari Class Restaurant.\")\n",
        "food3.describe_restaurant()\n",
        "print(\"=\"*150)\n",
        "print(\"Uji Coba Objek dari Class IceCreamStall.\")\n",
        "ice1.describe_restaurant()"
      ],
      "metadata": {
        "colab": {
          "base_uri": "https://localhost:8080/"
        },
        "id": "PxLij1FF6zNs",
        "outputId": "620f33b7-162d-4e33-eee9-952cb62fafb3"
      },
      "execution_count": null,
      "outputs": [
        {
          "output_type": "stream",
          "name": "stdout",
          "text": [
            "Uji Coba Objek dari Class Restaurant.\n",
            "Restoran Funny Juice adalah booth makanan yang menyediakan berbagai \n",
            "makanan berjenis Minuman yang mulai beroperasi mulai \n",
            "dari pukul 8 A.M. - 6 P.M.\n",
            "======================================================================================================================================================\n",
            "Uji Coba Objek dari Class IceCreamStall.\n",
            "Restoran Tok Aba Snow adalah booth makanan yang menyediakan berbagai \n",
            "makanan berjenis Gelato yang mulai beroperasi mulai \n",
            "dari pukul 8 A.M. - 6 P.M.\n",
            "Kedai ice cream Tok Aba Snow menyediakan ice cream berjenis Gelato.\n",
            "Gelato dibuat dari campuran bahan utama seperti susu, krim, dan gula.\n",
            "Namun gelato memiliki kandungan lemak yang lebih sedikit dibanding es krim.\n"
          ]
        }
      ]
    },
    {
      "cell_type": "markdown",
      "source": [
        "#**Latihan 4**"
      ],
      "metadata": {
        "id": "Y0rJg7uuoHz_"
      }
    },
    {
      "cell_type": "code",
      "source": [
        "class User:\n",
        "  def __init__(self,first_name,last_name):\n",
        "    self.__first_name = first_name\n",
        "    self.__last_name = last_name\n",
        "\n",
        "  def describe_user(self):\n",
        "    print(f\"\"\"Name      : {self.__first_name} {self.__last_name},\\nNickname  : {self.__first_name}\"\"\")\n",
        "    type = print(f\"User {self.__first_name} adalah user biasa.\")\n",
        "    return type\n",
        "\n",
        "  def greet_user(self):\n",
        "    print(f\"Assalamu'alaikum, I'm {self.__first_name} {self.__last_name}.\\nYou can call me {self.__first_name}\")"
      ],
      "metadata": {
        "id": "yruOAUMn982V"
      },
      "execution_count": null,
      "outputs": []
    },
    {
      "cell_type": "code",
      "source": [
        "user1 = User(\"Maimun\",\"Zubair\")\n",
        "user2 = User(\"Rabiah\",\"Adawiyah\")"
      ],
      "metadata": {
        "id": "IvYy8aNn-gdP"
      },
      "execution_count": null,
      "outputs": []
    },
    {
      "cell_type": "code",
      "source": [
        "print(\"Uji Coba Objek user1.\")\n",
        "user1.describe_user()\n",
        "user1.greet_user()\n",
        "print(\"=\"*150)\n",
        "print(\"Uji Coba Objek user2.\")\n",
        "user2.describe_user()\n",
        "user2.greet_user()"
      ],
      "metadata": {
        "colab": {
          "base_uri": "https://localhost:8080/"
        },
        "id": "lwrzVcdt_MIV",
        "outputId": "765fe28d-ae75-4253-c13f-29ccb1372e6e"
      },
      "execution_count": null,
      "outputs": [
        {
          "output_type": "stream",
          "name": "stdout",
          "text": [
            "Uji Coba Objek user1.\n",
            "Name      : Maimun Zubair,\n",
            "Nickname  : Maimun\n",
            "User Maimun adalah user biasa.\n",
            "Assalamu'alaikum, I'm Maimun Zubair.\n",
            "You can call me Maimun\n",
            "======================================================================================================================================================\n",
            "Uji Coba Objek user2.\n",
            "Name      : Rabiah Adawiyah,\n",
            "Nickname  : Rabiah\n",
            "User Rabiah adalah user biasa.\n",
            "Assalamu'alaikum, I'm Rabiah Adawiyah.\n",
            "You can call me Rabiah\n"
          ]
        }
      ]
    },
    {
      "cell_type": "markdown",
      "source": [
        "#**Latihan 5**"
      ],
      "metadata": {
        "id": "M3bHe73ZoQKI"
      }
    },
    {
      "cell_type": "code",
      "source": [
        "class Admin(User):\n",
        "  def __init__(self,first_name,last_name,privileges):\n",
        "    super().__init__(first_name,last_name)\n",
        "    self.__privileges = list(privileges)\n",
        "\n",
        "  def show_privileges(self):\n",
        "    print(f\"Daftar privileges dari admin {self._User__first_name} {self._User__last_name}:\")\n",
        "    for u in self.__privileges:\n",
        "      print(f\"- {u}\")"
      ],
      "metadata": {
        "id": "ScnUrYxe_3_9"
      },
      "execution_count": null,
      "outputs": []
    },
    {
      "cell_type": "code",
      "source": [
        "user3 = User(\"Abdullah\",\"Alwi Al Haddad\")\n",
        "admin1 = Admin(\"Anwar\",\"Manshur\",['dapat menambahkan post', \"dapat menghapus post\", \"dapat melarang user\"])"
      ],
      "metadata": {
        "id": "DM4r2cxpAzPe"
      },
      "execution_count": null,
      "outputs": []
    },
    {
      "cell_type": "code",
      "source": [
        "print(\"Uji Coba Objek admin1 dari Class Admin.\")\n",
        "admin1.describe_user()\n",
        "admin1.greet_user()\n",
        "admin1.show_privileges()\n",
        "print(\"=\"*150)\n",
        "print(\"Uji Coba Objek user3 dari Class User.\")\n",
        "user3.describe_user()\n",
        "user3.greet_user()"
      ],
      "metadata": {
        "colab": {
          "base_uri": "https://localhost:8080/"
        },
        "id": "rGJwgLW2COgU",
        "outputId": "8c1872c8-d29e-4200-d4ac-9011fdfb9162"
      },
      "execution_count": null,
      "outputs": [
        {
          "output_type": "stream",
          "name": "stdout",
          "text": [
            "Uji Coba Objek admin1 dari Class Admin.\n",
            "Name      : Anwar Manshur,\n",
            "Nickname  : Anwar\n",
            "User Anwar adalah user biasa.\n",
            "Assalamu'alaikum, I'm Anwar Manshur.\n",
            "You can call me Anwar\n",
            "Daftar privileges dari admin Anwar Manshur:\n",
            "- dapat menambahkan post\n",
            "- dapat menghapus post\n",
            "- dapat melarang user\n",
            "======================================================================================================================================================\n",
            "Uji Coba Objek user3 dari Class User.\n",
            "Name      : Abdullah Alwi Al Haddad,\n",
            "Nickname  : Abdullah\n",
            "User Abdullah adalah user biasa.\n",
            "Assalamu'alaikum, I'm Abdullah Alwi Al Haddad.\n",
            "You can call me Abdullah\n"
          ]
        }
      ]
    },
    {
      "cell_type": "markdown",
      "source": [
        "#**Latihan 6**"
      ],
      "metadata": {
        "id": "YzF7XxFnoVNB"
      }
    },
    {
      "cell_type": "code",
      "source": [
        "class Admin(User):\n",
        "  def __init__(self,first_name,last_name,privileges):\n",
        "    super().__init__(first_name,last_name)\n",
        "    self.__privileges = list(privileges)\n",
        "\n",
        "  def show_privileges(self):\n",
        "    print(f\"Daftar privileges dari admin {self._User__first_name} {self._User__last_name}:\")\n",
        "    for u in self.__privileges:\n",
        "      print(f\"- {u}\")\n",
        "\n",
        "  def describe_user(self):\n",
        "    super().describe_user()\n",
        "    type = print(f\"User {self._User__first_name} adalah user admin.\")\n",
        "    return type\n",
        "\n",
        "  def delPrivileges(self,privileg):\n",
        "    self.privileg = list(privileg)\n",
        "    for i in self.privileg:\n",
        "      self.__privileges.remove(i)\n",
        "    print(f\"Privileges {self._User__first_name} {self._User__last_name} berhasil dirubah.\\nDaftar privileges saat ini:\")\n",
        "    for u in self.__privileges:\n",
        "      print(f\"- {u}\")\n",
        "\n",
        "  def addPrivileges(self,privileg):\n",
        "    self.privileg = list(privileg)\n",
        "    for i in self.privileg:\n",
        "      self.__privileges.append(i)\n",
        "    print(f\"Privileges {self._User__first_name} {self._User__last_name} berhasil ditambahkan.\\nDaftar privileges saat ini:\")\n",
        "    for u in self.__privileges:\n",
        "      print(f\"- {u}\")"
      ],
      "metadata": {
        "id": "tC1xET-e6WyS"
      },
      "execution_count": null,
      "outputs": []
    },
    {
      "cell_type": "code",
      "source": [
        "admin1 = Admin(\"Anwar\",\"Manshur\",['dapat menambahkan post', \"dapat menghapus post\", \"dapat melarang user\"])\n",
        "admin2 = Admin(\"Heru\",\"Mahayani\",['dapat menambahkan post', \"dapat menghapus post\"])"
      ],
      "metadata": {
        "id": "EhfhHtWV-c6e"
      },
      "execution_count": null,
      "outputs": []
    },
    {
      "cell_type": "code",
      "source": [
        "print(\"Uji Coba Objek admin1 dari Class Admin.\")\n",
        "admin1.describe_user()\n",
        "admin1.show_privileges()\n",
        "admin1.delPrivileges(['dapat menambahkan post', \"dapat menghapus post\"])\n",
        "print(\"=\"*100)\n",
        "print(\"Uji Coba Objek admin2 dari Class Admin.\")\n",
        "admin2.describe_user()\n",
        "admin2.show_privileges()\n",
        "admin2.addPrivileges([\"dapat melarang user\"])"
      ],
      "metadata": {
        "colab": {
          "base_uri": "https://localhost:8080/"
        },
        "id": "qftwSpGs8Zgo",
        "outputId": "e05b7a07-85e3-4a41-a145-fc96793d7cec"
      },
      "execution_count": null,
      "outputs": [
        {
          "output_type": "stream",
          "name": "stdout",
          "text": [
            "Uji Coba Objek admin1 dari Class Admin.\n",
            "Name      : Anwar Manshur,\n",
            "Nickname  : Anwar\n",
            "User Anwar adalah user biasa.\n",
            "User Anwar adalah user admin.\n",
            "Daftar privileges dari admin Anwar Manshur:\n",
            "- dapat menambahkan post\n",
            "- dapat menghapus post\n",
            "- dapat melarang user\n",
            "Privileges Anwar Manshur berhasil dirubah.\n",
            "Daftar privileges saat ini:\n",
            "- dapat melarang user\n",
            "====================================================================================================\n",
            "Uji Coba Objek admin2 dari Class Admin.\n",
            "Name      : Heru Mahayani,\n",
            "Nickname  : Heru\n",
            "User Heru adalah user biasa.\n",
            "User Heru adalah user admin.\n",
            "Daftar privileges dari admin Heru Mahayani:\n",
            "- dapat menambahkan post\n",
            "- dapat menghapus post\n",
            "Privileges Heru Mahayani berhasil ditambahkan.\n",
            "Daftar privileges saat ini:\n",
            "- dapat menambahkan post\n",
            "- dapat menghapus post\n",
            "- dapat melarang user\n"
          ]
        }
      ]
    },
    {
      "cell_type": "markdown",
      "source": [
        "#**Latihan 7**"
      ],
      "metadata": {
        "id": "Ub4l4g5Uoe67"
      }
    },
    {
      "cell_type": "code",
      "source": [
        "class Message:\n",
        "  def __init__(self,name,nickname,gender,departemen):\n",
        "    self.name = name\n",
        "    self.nickname = nickname\n",
        "    self.dept = departemen\n",
        "    self.gender = gender\n",
        "\n",
        "  def info(self):\n",
        "    print(f\"Nama: {self.name}\\nDepartemen: {self.dept}\")\n",
        "\n",
        "  def content(self):\n",
        "    self.greet = \"Assalamu'alaikum Wr. Wb.\\n\"\n",
        "    print(self.greet)\n",
        "\n",
        "class Dosen(Message):\n",
        "\n",
        "  def __init__(self,name,nickname,gender,departemen,mk):\n",
        "    super().__init__(name,nickname,gender,departemen)\n",
        "    if (self.gender).upper() == \"L\":\n",
        "      self.gender = \"Bapak\"\n",
        "    else:\n",
        "      self.gender = \"Ibu\"\n",
        "    self.mk = mk\n",
        "\n",
        "  def info(self):\n",
        "    super().info()\n",
        "    print(f\"Pengampu Mata Kuliah: {self.mk}\")\n",
        "\n",
        "  def content(self,name_mhs,nrp_mhs,kelas,room,time):\n",
        "    self.name_mhs= name_mhs\n",
        "    self.nrp_mhs = nrp_mhs\n",
        "    self.kelas = kelas\n",
        "    self.room = room\n",
        "    self.time = time\n",
        "    super().content()\n",
        "    open = f\"\"\"Mohon maaf mengganggu waktunya {self.gender} {self.nickname}.\\nSaya {self.name_mhs} dengan NRP {self.nrp_mhs} dari kelas {self.kelas}.\"\"\"\n",
        "    goal = f\"\"\"\\nIzin mengingatkan bahwa {self.gender} memiliki jadwal mengajar kelas kami ({self.kelas})\\npada hari ini pukul {self.time} di ruangan {self.room}.\"\"\"\n",
        "    close = f\"\"\"\\nSekian terimakasih atas perhatiannya {self.gender}\"\"\"\n",
        "    print(open,goal,close)\n",
        "\n",
        "\n",
        "class Friend(Message):\n",
        "\n",
        "  def __init__(self,name,nickname,gender,departemen,univ,community):\n",
        "    super().__init__(name,nickname,gender,departemen)\n",
        "    if (self.gender).upper() == \"L\":\n",
        "      self.gender = \"Brooo\"\n",
        "    else:\n",
        "      self.gender = \"Bub\"\n",
        "    self.univ = univ\n",
        "    self.community = community\n",
        "\n",
        "  def info(self):\n",
        "    super().info()\n",
        "    print(f\"Universitas: {self.univ}\\nKomunitas: {self.community}\")\n",
        "\n",
        "  def content(self):\n",
        "    super().content()\n",
        "    open = f\"Hey {self.gender}, bagaimana kabarmu {self.nickname}?\"\n",
        "    question = f\"\\nApakah kamu sedang free?\"\n",
        "    goal = f\"\\nAku ingin mengajakmu hangout bersama teman-teman sekarang.\\n\"\n",
        "    print(open,question,goal)"
      ],
      "metadata": {
        "id": "VXfFg8nKI0pV"
      },
      "execution_count": null,
      "outputs": []
    },
    {
      "cell_type": "code",
      "source": [
        "teach1 = Dosen(\"Heru Mahayani\",\"Heru\",\"L\",\"TKJ\",\"ASJ\")\n",
        "teach1.content(\"Intan Dwi Anggreini\",\"123421015\",\"12 TKJ 1\",\"Lab Network\",\"08.00\")"
      ],
      "metadata": {
        "colab": {
          "base_uri": "https://localhost:8080/"
        },
        "id": "cZdaaG0cVIrY",
        "outputId": "f2aa61b0-fa84-4e6a-c2da-2dacf11388fb"
      },
      "execution_count": null,
      "outputs": [
        {
          "output_type": "stream",
          "name": "stdout",
          "text": [
            "Assalamu'alaikum Wr. Wb.\n",
            "\n",
            "Mohon maaf mengganggu waktunya Bapak Heru.\n",
            "Saya Intan Dwi Anggreini dengan NRP 123421015 dari kelas 12 TKJ 1. \n",
            "Izin mengingatkan bahwa Bapak memiliki jadwal mengajar kelas kami (12 TKJ 1)\n",
            "pada hari ini pukul 08.00 di ruangan Lab Network. \n",
            "Sekian terimakasih atas perhatiannya Bapak\n"
          ]
        }
      ]
    },
    {
      "cell_type": "code",
      "source": [
        "friend1 = Friend(\"Safatina Fitri Nur Rahma\",\"Safatina\",\"P\",\"Informatika\",\"PENS\",\"Bismillah\")\n",
        "friend1.info()\n",
        "print(\"\\n\")\n",
        "friend1.content()"
      ],
      "metadata": {
        "colab": {
          "base_uri": "https://localhost:8080/"
        },
        "id": "LyvIX2SelD1n",
        "outputId": "95fb0677-d110-4a5a-c31f-5f4d173a9430"
      },
      "execution_count": null,
      "outputs": [
        {
          "output_type": "stream",
          "name": "stdout",
          "text": [
            "Nama: Safatina Fitri Nur Rahma\n",
            "Departemen: Informatika\n",
            "Universitas: PENS\n",
            "Komunitas: Bismillah\n",
            "\n",
            "\n",
            "Assalamu'alaikum Wr. Wb.\n",
            "\n",
            "Hey Bub, bagaimana kabarmu Safatina? \n",
            "Apakah kamu sedang free? \n",
            "Aku ingin mengajakmu hangout bersama teman-teman sekarang.\n",
            "\n"
          ]
        }
      ]
    }
  ]
}