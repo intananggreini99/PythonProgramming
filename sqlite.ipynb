{
 "cells": [
  {
   "cell_type": "code",
   "execution_count": null,
   "id": "7c6790bf",
   "metadata": {},
   "outputs": [
    {
     "name": "stdout",
     "output_type": "stream",
     "text": [
      "Input nilai harus berupa angka.\n",
      "Input nilai harus berupa angka.\n"
     ]
    }
   ],
   "source": [
    "import logging as log\n",
    "import sqlite3\n",
    "\n",
    "logger = log.getLogger('Logger_Penilaian_Mahasiswa')\n",
    "log.basicConfig(level=log.DEBUG,\n",
    "                    filename='__app.log',\n",
    "                    filemode='w',\n",
    "                    format='%(asctime)s - %(levelname)s - %(message)s',\n",
    "                    datefmt='%Y-%m-%d %H:%M:%S')\n",
    "\n",
    "admin = input(\"Masukkan nama anda (penginput data) :\")\n",
    "\n",
    "def isInValid(score):\n",
    "    return not (0 <= score <= 100)\n",
    "\n",
    "cdb = sqlite3.connect(\"mahasiswa.db\")\n",
    "cursor = cdb.cursor()\n",
    "\n",
    "cursor.execute('''\n",
    "    CREATE TABLE IF NOT EXISTS mhsmain (\n",
    "        id INTEGER PRIMARY KEY AUTOINCREMENT,\n",
    "        name TEXT NOT NULL\n",
    "    )\n",
    "    ''')\n",
    "\n",
    "cursor.execute('''\n",
    "    CREATE TABLE IF NOT EXISTS mhsnilai (\n",
    "        id INTEGER PRIMARY KEY AUTOINCREMENT,\n",
    "        id_mhs INTEGER,\n",
    "        nilai REAL,\n",
    "        FOREIGN KEY(id_mhs) REFERENCES mhsmain(id)\n",
    "    )\n",
    "    ''')\n",
    "\n",
    "while True:   \n",
    "     \n",
    "    try:\n",
    "        name = input(\"Masukkan nama mahasiswa: \")\n",
    "        score = float(input(\"Masukkan nilai mahasiswa (0-100): \"))\n",
    "        \n",
    "    except ValueError:\n",
    "        print(\"Input nilai harus berupa angka.\")\n",
    "        log.error(f\"Input nilai tidak valid untuk {name}.\")\n",
    "\n",
    "    if isInValid(score):\n",
    "        print(\"Nilai harus berada di antara 0 hingga 100.\")\n",
    "        log.error(f\"Nilai {name} tidak valid: {score}\")\n",
    "    \n",
    "\n",
    "    cursor.execute(\"INSERT INTO mhsmain (name) VALUES (?)\", (name,))\n",
    "    mahasiswa_id = cursor.lastrowid\n",
    "\n",
    "    cursor.execute(\"INSERT INTO mhsnilai (id_mhs, nilai) VALUES (?, ?)\", (mahasiswa_id, score))\n",
    "\n",
    "    log.debug(f\"User {admin} - Input Data - {name} : {score}\")\n",
    "\n",
    "    cdb.commit()\n",
    "    log.info(f\"Data nilai untuk {name} berhasil disimpan.\")\n",
    "\n",
    "    if input(\"Ulang lagi (y/t)? \").lower() == \"t\":\n",
    "        cdb.close()\n",
    "        break\n"
   ]
  },
  {
   "cell_type": "code",
   "execution_count": 14,
   "id": "260147f2",
   "metadata": {},
   "outputs": [
    {
     "name": "stdout",
     "output_type": "stream",
     "text": [
      "1 => intan\n",
      "2 => alfian\n"
     ]
    }
   ],
   "source": [
    "import sqlite3\n",
    "\n",
    "cdb = sqlite3.connect(\"mahasiswa.db\")\n",
    "cursor = cdb.cursor()\n",
    "\n",
    "cursor.execute(\"SELECT * FROM mhsmain\")\n",
    "data = cursor.fetchall()\n",
    "for id, name in data:\n",
    "  print(f\"{id} => {name}\")\n",
    "\n",
    "cdb.close()"
   ]
  },
  {
   "cell_type": "code",
   "execution_count": 15,
   "id": "d67d2753",
   "metadata": {},
   "outputs": [
    {
     "name": "stdout",
     "output_type": "stream",
     "text": [
      "Mahasiswa dengan ID 1 memiliki nilai 89.0\n",
      "Mahasiswa dengan ID 2 memiliki nilai 99.7\n"
     ]
    }
   ],
   "source": [
    "import sqlite3\n",
    "\n",
    "cdb = sqlite3.connect(\"mahasiswa.db\")\n",
    "cursor = cdb.cursor()\n",
    "\n",
    "cursor.execute(\"SELECT * FROM mhsnilai\")\n",
    "dataVal = cursor.fetchall()\n",
    "for id,id_mhs, nilai in dataVal:\n",
    "  print(f\"Mahasiswa dengan ID {id_mhs} memiliki nilai {nilai}\")\n",
    "\n",
    "cdb.close()"
   ]
  },
  {
   "cell_type": "code",
   "execution_count": 12,
   "id": "05c7ef3e",
   "metadata": {},
   "outputs": [],
   "source": [
    "import sqlite3\n",
    "\n",
    "cdb = sqlite3.connect(\"mahasiswa.db\")\n",
    "cursor = cdb.cursor()\n",
    "\n",
    "cursor.execute(\"DROP TABLE mhsmain\")\n",
    "cursor.execute(\"DROP TABLE mhsnilai\")\n",
    "\n",
    "cdb.close()"
   ]
  }
 ],
 "metadata": {
  "kernelspec": {
   "display_name": "Python 3",
   "language": "python",
   "name": "python3"
  },
  "language_info": {
   "codemirror_mode": {
    "name": "ipython",
    "version": 3
   },
   "file_extension": ".py",
   "mimetype": "text/x-python",
   "name": "python",
   "nbconvert_exporter": "python",
   "pygments_lexer": "ipython3",
   "version": "3.13.3"
  }
 },
 "nbformat": 4,
 "nbformat_minor": 5
}
