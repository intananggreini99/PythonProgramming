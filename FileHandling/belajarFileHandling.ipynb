{
 "cells": [
  {
   "cell_type": "markdown",
   "id": "42af27ce",
   "metadata": {},
   "source": [
    "# **.TXT FILE**"
   ]
  },
  {
   "cell_type": "markdown",
   "id": "9d34a648",
   "metadata": {},
   "source": [
    "**Reading File**"
   ]
  },
  {
   "cell_type": "code",
   "execution_count": 3,
   "id": "7a84b9d1",
   "metadata": {},
   "outputs": [
    {
     "name": "stdout",
     "output_type": "stream",
     "text": [
      "'Aku ingin mencintaimu dengan sederhana',\n",
      "'dengan kata yang tak sempat diucapkan kayu',\n",
      "'kepada api yang menjadikannya abu.'\n",
      "'Aku ingin mencintaimu dengan sederhana',\n",
      "'dengan isyarat yang tak sempat disampaikan awan',\n",
      "'kepada hujan yang menjadikannya tiada.',\n",
      "'â€• Sapardi Djoko Damono'Coba Tambah tekscoba tambah teks \\n, okeCoba tambah teks \\n, niehoek \\n okeCoba nambahin file \\n, thanksoke \\n, oke\n"
     ]
    }
   ],
   "source": [
    "file = open(\"latihan1.txt\",\"r\")\n",
    "data = file.read()\n",
    "print(data)\n",
    "file.close()"
   ]
  },
  {
   "cell_type": "code",
   "execution_count": 5,
   "id": "b1ecfcbc",
   "metadata": {},
   "outputs": [
    {
     "name": "stdout",
     "output_type": "stream",
     "text": [
      "Baris 1 : 'Aku ingin mencintaimu dengan sederhana',\n",
      "\n",
      "Baris 2 : 'dengan kata yang tak sempat diucapkan kayu',\n",
      "\n",
      "Baris 3 : 'kepada api yang menjadikannya abu.'\n",
      "\n"
     ]
    }
   ],
   "source": [
    "file = open(\"latihan1.txt\",\"r\")\n",
    "line1 = file.readline()\n",
    "print(f\"Baris 1 : {line1}\")\n",
    "line2 = file.readline()\n",
    "print(f\"Baris 2 : {line2}\")\n",
    "line3 = file.readline()\n",
    "print(f\"Baris 3 : {line3}\")"
   ]
  },
  {
   "cell_type": "code",
   "execution_count": 6,
   "id": "d99567b5",
   "metadata": {},
   "outputs": [
    {
     "name": "stdout",
     "output_type": "stream",
     "text": [
      "[\"'Aku ingin mencintaimu dengan sederhana',\\n\", \"'dengan kata yang tak sempat diucapkan kayu',\\n\", \"'kepada api yang menjadikannya abu.'\\n\", \"'Aku ingin mencintaimu dengan sederhana',\\n\", \"'dengan isyarat yang tak sempat disampaikan awan',\\n\", \"'kepada hujan yang menjadikannya tiada.',\\n\", \"'â€• Sapardi Djoko Damono'Coba Tambah tekscoba tambah teks \\\\n, okeCoba tambah teks \\\\n, niehoek \\\\n okeCoba nambahin file \\\\n, thanksoke \\\\n, oke\"]\n"
     ]
    }
   ],
   "source": [
    "file = open(\"latihan1.txt\",\"r\")\n",
    "perLine = file.readlines()\n",
    "print(perLine)"
   ]
  },
  {
   "cell_type": "markdown",
   "id": "e755bf19",
   "metadata": {},
   "source": [
    "**Write File**"
   ]
  },
  {
   "cell_type": "markdown",
   "id": "fed777dc",
   "metadata": {},
   "source": [
    "###### **WRITE( )**"
   ]
  },
  {
   "cell_type": "code",
   "execution_count": 11,
   "id": "3cbc6ab7",
   "metadata": {},
   "outputs": [],
   "source": [
    "# Mode Write (\"w\")\n",
    "# Jika file dgn judul yg sama tidak ditemukan maka akan membuat file baru\n",
    "# namun jika file dgn judul yg sama ditemukan maka teks lama ditimpa dengan yang baru\n",
    "file = open(\"aboutMe.txt\",\"w\")\n",
    "file.write(\"\"\"Hello everyone !!!\n",
    "Perkenalkan nama saya Intan Dwi Anggreini.\n",
    "Saya berasal dari kota Tahu Kediri.\n",
    "\"\"\")\n",
    "file.close()"
   ]
  },
  {
   "cell_type": "code",
   "execution_count": null,
   "id": "c06c39bf",
   "metadata": {},
   "outputs": [
    {
     "ename": "FileExistsError",
     "evalue": "[Errno 17] File exists: 'aboutMe.txt'",
     "output_type": "error",
     "traceback": [
      "\u001b[31m---------------------------------------------------------------------------\u001b[39m",
      "\u001b[31mFileExistsError\u001b[39m                           Traceback (most recent call last)",
      "\u001b[36mCell\u001b[39m\u001b[36m \u001b[39m\u001b[32mIn[14]\u001b[39m\u001b[32m, line 2\u001b[39m\n\u001b[32m      1\u001b[39m \u001b[38;5;66;03m# Mode \"x\"\u001b[39;00m\n\u001b[32m----> \u001b[39m\u001b[32m2\u001b[39m file = \u001b[38;5;28;43mopen\u001b[39;49m\u001b[43m(\u001b[49m\u001b[33;43m\"\u001b[39;49m\u001b[33;43maboutMe.txt\u001b[39;49m\u001b[33;43m\"\u001b[39;49m\u001b[43m,\u001b[49m\u001b[33;43m\"\u001b[39;49m\u001b[33;43mx\u001b[39;49m\u001b[33;43m\"\u001b[39;49m\u001b[43m)\u001b[49m\n\u001b[32m      3\u001b[39m file.write(\u001b[33m\"\u001b[39m\u001b[33mSee you byee\u001b[39m\u001b[33m\"\u001b[39m)\n\u001b[32m      4\u001b[39m file.close()\n",
      "\u001b[36mFile \u001b[39m\u001b[32mc:\\Users\\dinta\\AppData\\Local\\Programs\\Python\\Python313\\Lib\\site-packages\\IPython\\core\\interactiveshell.py:325\u001b[39m, in \u001b[36m_modified_open\u001b[39m\u001b[34m(file, *args, **kwargs)\u001b[39m\n\u001b[32m    318\u001b[39m \u001b[38;5;28;01mif\u001b[39;00m file \u001b[38;5;129;01min\u001b[39;00m {\u001b[32m0\u001b[39m, \u001b[32m1\u001b[39m, \u001b[32m2\u001b[39m}:\n\u001b[32m    319\u001b[39m     \u001b[38;5;28;01mraise\u001b[39;00m \u001b[38;5;167;01mValueError\u001b[39;00m(\n\u001b[32m    320\u001b[39m         \u001b[33mf\u001b[39m\u001b[33m\"\u001b[39m\u001b[33mIPython won\u001b[39m\u001b[33m'\u001b[39m\u001b[33mt let you open fd=\u001b[39m\u001b[38;5;132;01m{\u001b[39;00mfile\u001b[38;5;132;01m}\u001b[39;00m\u001b[33m by default \u001b[39m\u001b[33m\"\u001b[39m\n\u001b[32m    321\u001b[39m         \u001b[33m\"\u001b[39m\u001b[33mas it is likely to crash IPython. If you know what you are doing, \u001b[39m\u001b[33m\"\u001b[39m\n\u001b[32m    322\u001b[39m         \u001b[33m\"\u001b[39m\u001b[33myou can use builtins\u001b[39m\u001b[33m'\u001b[39m\u001b[33m open.\u001b[39m\u001b[33m\"\u001b[39m\n\u001b[32m    323\u001b[39m     )\n\u001b[32m--> \u001b[39m\u001b[32m325\u001b[39m \u001b[38;5;28;01mreturn\u001b[39;00m \u001b[43mio_open\u001b[49m\u001b[43m(\u001b[49m\u001b[43mfile\u001b[49m\u001b[43m,\u001b[49m\u001b[43m \u001b[49m\u001b[43m*\u001b[49m\u001b[43margs\u001b[49m\u001b[43m,\u001b[49m\u001b[43m \u001b[49m\u001b[43m*\u001b[49m\u001b[43m*\u001b[49m\u001b[43mkwargs\u001b[49m\u001b[43m)\u001b[49m\n",
      "\u001b[31mFileExistsError\u001b[39m: [Errno 17] File exists: 'aboutMe.txt'"
     ]
    }
   ],
   "source": [
    "# Mode \"x\"\n",
    "# Mode ini mirip dengan mode \"w\" perbedaannya jika file yang akan ditulis tersedia\n",
    "# maka akan memunculkan error (FileExistsError)\n",
    "file = open(\"aboutMe.txt\",\"x\")\n",
    "file.write(\"See you byee\")\n",
    "file.close()"
   ]
  },
  {
   "cell_type": "code",
   "execution_count": 12,
   "id": "80cb51f3",
   "metadata": {},
   "outputs": [],
   "source": [
    "# Mode Append (\"a\")\n",
    "# Jika file dgn judul yg sama tidak ditemukan maka akan membuat file baru\n",
    "# namun jika file dgn judul yg sama ditemukan maka akan menambahkan teks baru pada baris akhir teks lama\n",
    "file = open(\"aboutMe.txt\",\"a\")\n",
    "file.write(\"\"\" Saya sangat suka jus Alpukat dan eskrim mochi strawberry glicowings.\n",
    "Saya juga suka gulai masakan ibu saya rasanya autentik.\"\"\")\n",
    "file.close()"
   ]
  },
  {
   "cell_type": "markdown",
   "id": "9059845c",
   "metadata": {},
   "source": [
    "###### **WRITELINES( )**"
   ]
  },
  {
   "cell_type": "code",
   "execution_count": 7,
   "id": "77f5ea70",
   "metadata": {},
   "outputs": [],
   "source": [
    "daftar_jurusan = {\"TJKT\" : \"2 kelas\",\n",
    "                  \"TKIM\" : \"2 kelas\",\n",
    "                  \"TOI\"  : \"2 kelas\",\n",
    "                  \"DPIB\" : \"2 kelas\"}\n",
    "file = open(\"dataJurusan.txt\",\"w\")\n",
    "file.writelines(daftar_jurusan)"
   ]
  },
  {
   "cell_type": "code",
   "execution_count": 6,
   "id": "944f347a",
   "metadata": {},
   "outputs": [],
   "source": [
    "daftar_jurusan = (\"\\nTKP -> Teknik Kontruksi Properti \\n\",\n",
    "                  \"\\n TPM -> Teknik Permesinan\")\n",
    "file = open(\"dataJurusan.txt\",\"a\")\n",
    "file.writelines(daftar_jurusan)"
   ]
  },
  {
   "cell_type": "markdown",
   "id": "65f6417c",
   "metadata": {},
   "source": [
    "# ***Closing an Opened File***"
   ]
  },
  {
   "cell_type": "markdown",
   "id": "662716b3",
   "metadata": {},
   "source": [
    "Alternatif tanpa method .close() dapat menggunakan with"
   ]
  },
  {
   "cell_type": "code",
   "execution_count": 2,
   "id": "0aed84a0",
   "metadata": {},
   "outputs": [
    {
     "name": "stdout",
     "output_type": "stream",
     "text": [
      "'Aku ingin mencintaimu dengan sederhana',\n",
      "'dengan kata yang tak sempat diucapkan kayu',\n",
      "'kepada api yang menjadikannya abu.'\n",
      "'Aku ingin mencintaimu dengan sederhana',\n",
      "'dengan isyarat yang tak sempat disampaikan awan',\n",
      "'kepada hujan yang menjadikannya tiada.',\n",
      "'â€• Sapardi Djoko Damono'Coba Tambah tekscoba tambah teks \\n, okeCoba tambah teks \\n, niehoek \\n okeCoba nambahin file \\n, thanksoke \\n, oke\n"
     ]
    }
   ],
   "source": [
    "with open(\"latihan1.txt\",'r') as file:\n",
    "    print(file.read())"
   ]
  },
  {
   "cell_type": "code",
   "execution_count": 1,
   "id": "193c81f7",
   "metadata": {},
   "outputs": [],
   "source": [
    "with open(\"aboutMe.txt\",'a') as file:\n",
    "    file.write(\"Wassalamu'alaikum Wr. Wb.\")"
   ]
  },
  {
   "cell_type": "markdown",
   "id": "97b60981",
   "metadata": {},
   "source": [
    "# **File PDF**"
   ]
  },
  {
   "cell_type": "code",
   "execution_count": null,
   "id": "ea341850",
   "metadata": {},
   "outputs": [],
   "source": [
    "import pdfplumber\n",
    "\n",
    "with pdfplumber.open('contoh.pdf') as pdf:\n",
    "    for page in pdf.pages:\n",
    "        text = page.extract_text()\n",
    "        print(text)"
   ]
  }
 ],
 "metadata": {
  "kernelspec": {
   "display_name": "Python 3",
   "language": "python",
   "name": "python3"
  },
  "language_info": {
   "codemirror_mode": {
    "name": "ipython",
    "version": 3
   },
   "file_extension": ".py",
   "mimetype": "text/x-python",
   "name": "python",
   "nbconvert_exporter": "python",
   "pygments_lexer": "ipython3",
   "version": "3.13.2"
  }
 },
 "nbformat": 4,
 "nbformat_minor": 5
}
