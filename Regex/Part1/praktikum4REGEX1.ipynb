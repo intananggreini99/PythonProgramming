{
 "cells": [
  {
   "cell_type": "code",
   "execution_count": 1,
   "metadata": {
    "executionInfo": {
     "elapsed": 47,
     "status": "ok",
     "timestamp": 1743174181892,
     "user": {
      "displayName": "INTAN DWI ANGGREINI",
      "userId": "05607331958968861654"
     },
     "user_tz": -420
    },
    "id": "i7H97HL0TZ79"
   },
   "outputs": [],
   "source": [
    "import re"
   ]
  },
  {
   "cell_type": "markdown",
   "metadata": {
    "id": "kB-gtvGXRZ5n"
   },
   "source": [
    "# **Exercise 1**"
   ]
  },
  {
   "cell_type": "code",
   "execution_count": null,
   "metadata": {
    "colab": {
     "base_uri": "https://localhost:8080/"
    },
    "executionInfo": {
     "elapsed": 20,
     "status": "ok",
     "timestamp": 1741831429329,
     "user": {
      "displayName": "INTAN DWI ANGGREINI",
      "userId": "05607331958968861654"
     },
     "user_tz": -420
    },
    "id": "H-6Hw5-Pr-Pt",
    "outputId": "595abb5e-d4b1-4d02-acee-d69a5a8cc6b1"
   },
   "outputs": [
    {
     "name": "stdout",
     "output_type": "stream",
     "text": [
      "Nama panggilan siswa \"anaaa\" memenuhi persyaratan.\n",
      "Nama panggilan siswa \"intan\" memenuhi persyaratan.\n",
      "Nama panggilan tidak valid, segera perbaiki - Vika\n",
      "Nama panggilan siswa \"alfian\" memenuhi persyaratan.\n",
      "Nama panggilan siswa \"arumi\" memenuhi persyaratan.\n",
      "Nama panggilan siswa \"sania\" memenuhi persyaratan.\n",
      "Nama panggilan siswa \"vikar\" memenuhi persyaratan.\n",
      "Nama panggilan siswa \"andragogi\" memenuhi persyaratan.\n",
      "Nama panggilan tidak valid, segera perbaiki - anda\n",
      "Nama panggilan tidak valid, segera perbaiki - an__a\n",
      "Nama panggilan tidak valid, segera perbaiki - Arumi\n",
      "Nama panggilan tidak valid, segera perbaiki - sania99\n",
      "Nama panggilan tidak valid, segera perbaiki - dian.a\n",
      "valid = ['anaaa', 'intan', 'alfian', 'arumi', 'sania', 'vikar', 'andragogi']\n",
      "invalid = ['Vika', 'anda', 'an__a', 'Arumi', 'sania99', 'dian.a']\n"
     ]
    }
   ],
   "source": [
    "nickname = [\"anaaa\",'intan','Vika','alfian',\"arumi\",\"sania\",\"vikar\",\"andragogi\",\"anda\",\"an__a\",\"Arumi\",\"sania99\",\"dian.a\"]\n",
    "valid = [ ]\n",
    "invalid = [ ]\n",
    "for call in nickname:\n",
    "  match = re.search(\"[a-z]{5,}$\",call)\n",
    "  if match :\n",
    "    print(f'Nama panggilan siswa \"{call}\" memenuhi persyaratan.')\n",
    "    valid.append(call)\n",
    "  else :\n",
    "    print(f'Nama panggilan tidak valid, segera perbaiki - {call}')\n",
    "    invalid.append(call)\n",
    "\n",
    "print(f\"valid = {valid}\")\n",
    "print(f\"invalid = {invalid}\")"
   ]
  },
  {
   "cell_type": "markdown",
   "metadata": {
    "id": "GPkYpFZxRjFf"
   },
   "source": [
    "# **Exercise 2**"
   ]
  },
  {
   "cell_type": "code",
   "execution_count": null,
   "metadata": {
    "colab": {
     "base_uri": "https://localhost:8080/"
    },
    "executionInfo": {
     "elapsed": 12,
     "status": "ok",
     "timestamp": 1741831579383,
     "user": {
      "displayName": "INTAN DWI ANGGREINI",
      "userId": "05607331958968861654"
     },
     "user_tz": -420
    },
    "id": "LHT6UogGtx5R",
    "outputId": "8477d9ec-9036-4527-842e-6a866a0b5778"
   },
   "outputs": [
    {
     "name": "stdout",
     "output_type": "stream",
     "text": [
      "Username \"11anaaa\" memenuhi persyaratan.\n",
      "Username \"18arum\" memenuhi persyaratan.\n",
      "Username \"30Sania\" memenuhi persyaratan.\n",
      "Username \"09vika\" memenuhi persyaratan.\n",
      "Username \"43Andreas\" memenuhi persyaratan.\n",
      "Username \"67dian.a\" memenuhi persyaratan.\n",
      "Username tidak valid, segera perbaiki - andara11\n",
      "Username tidak valid, segera perbaiki - __andri\n",
      "Username tidak valid, segera perbaiki - Arumi10\n",
      "Username tidak valid, segera perbaiki - 9sania\n",
      "Username tidak valid, segera perbaiki - dian.a\n",
      "Username tidak valid, segera perbaiki - 10Aruumi10\n",
      "valid = ['11anaaa', '18arum', '30Sania', '09vika', '43Andreas', '67dian.a']\n",
      "invalid = ['andara11', '__andri', 'Arumi10', '9sania', 'dian.a', '10Aruumi10']\n"
     ]
    }
   ],
   "source": [
    "username = [\"11anaaa\",\"18arum\",\"30Sania\",\"09vika\",\"43Andreas\",\"67dian.a\",\"andara11\",\"__andri\",\"Arumi10\",\"9sania\",\"dian.a\",\"10Aruumi10\"]\n",
    "valid = [ ]\n",
    "invalid = [ ]\n",
    "for user in username:\n",
    "  match = re.search(\"^\\d{2}[.a-zA-Z]{1,}$\",user)\n",
    "  if match :\n",
    "    print(f'Username \"{user}\" memenuhi persyaratan.')\n",
    "    valid.append(user)\n",
    "  else :\n",
    "    print(f'Username tidak valid, segera perbaiki - {user}')\n",
    "    invalid.append(user)\n",
    "\n",
    "print(f\"valid = {valid}\")\n",
    "print(f\"invalid = {invalid}\")"
   ]
  },
  {
   "cell_type": "markdown",
   "metadata": {
    "id": "6f6ky5OLRlek"
   },
   "source": [
    "# **Exercise 3**"
   ]
  },
  {
   "cell_type": "code",
   "execution_count": null,
   "metadata": {
    "colab": {
     "base_uri": "https://localhost:8080/"
    },
    "executionInfo": {
     "elapsed": 9,
     "status": "ok",
     "timestamp": 1741812838682,
     "user": {
      "displayName": "INTAN DWI ANGGREINI",
      "userId": "05607331958968861654"
     },
     "user_tz": -420
    },
    "id": "fBZ_j9Dw21Vt",
    "outputId": "40a787a5-2af1-47be-811e-e018e2b74fa7"
   },
   "outputs": [
    {
     "name": "stdout",
     "output_type": "stream",
     "text": [
      "Username \"Deby@pens.ac.id\" memenuhi persyaratan.\n",
      "Username \"amai78@pens.ac.id\" memenuhi persyaratan.\n",
      "Username \"lely_aja@pens.ac.id\" memenuhi persyaratan.\n",
      "Username \"d4@pens.ac.id\" memenuhi persyaratan.\n",
      "Username tidak valid, segera perbaiki - 7dian@pens.ac.id\n",
      "Username tidak valid, segera perbaiki - d@pens.ac.id\n",
      "Username tidak valid, segera perbaiki - deby@pens.com\n",
      "Username tidak valid, segera perbaiki - _deby@pens\n",
      "valid = ['Deby@pens.ac.id', 'amai78@pens.ac.id', 'lely_aja@pens.ac.id', 'd4@pens.ac.id']\n",
      "invalid = ['7dian@pens.ac.id', 'd@pens.ac.id', 'deby@pens.com', '_deby@pens']\n"
     ]
    }
   ],
   "source": [
    "email_add = [\"Deby@pens.ac.id\",\"amai78@pens.ac.id\",\"lely_aja@pens.ac.id\",\"d4@pens.ac.id\",\"7dian@pens.ac.id\",\"d@pens.ac.id\",\"deby@pens.com\",\"_deby@pens\"]\n",
    "valid = [ ]\n",
    "invalid = [ ]\n",
    "for mail in email_add:\n",
    "  match = re.search(\"^[a-zA-Z]\\w+@pens\\.ac\\.id$\",mail)\n",
    "  if match :\n",
    "    print(f'Username \"{mail}\" memenuhi persyaratan.')\n",
    "    valid.append(mail)\n",
    "  else :\n",
    "    print(f'Username tidak valid, segera perbaiki - {mail}')\n",
    "    invalid.append(mail)\n",
    "\n",
    "print(f\"valid = {valid}\")\n",
    "print(f\"invalid = {invalid}\")"
   ]
  },
  {
   "cell_type": "markdown",
   "metadata": {
    "id": "jKid_6E5Rn2x"
   },
   "source": [
    "# **Exercise 4**"
   ]
  },
  {
   "cell_type": "code",
   "execution_count": 4,
   "metadata": {
    "colab": {
     "base_uri": "https://localhost:8080/"
    },
    "executionInfo": {
     "elapsed": 29,
     "status": "ok",
     "timestamp": 1743174187573,
     "user": {
      "displayName": "INTAN DWI ANGGREINI",
      "userId": "05607331958968861654"
     },
     "user_tz": -420
    },
    "id": "uDww_GRyIyfr",
    "outputId": "375704db-13fe-4c25-dfa6-e0d0fce1cb31"
   },
   "outputs": [
    {
     "name": "stdout",
     "output_type": "stream",
     "text": [
      "Teknik Jaringan Komputer & Telekomunikasi : ['heru@tkj.smeksa.com', 'cinta@tkj.smeksa.com', 'intan@tkj.smeksa.com', 'alif@tkj.smeksa.com']\n",
      "Teknik Permesinan : ['rizal@tpm.smeksa.com', 'husein@tpm.smeksa.com']\n",
      "Teknik Instalasi Teknologi Listrik : ['alvin@titl.smeksa.com', 'tegar@toi.smeksa.com', 'lisa@toi.smeksa.com', 'yohanes@titl.smeksa.com']\n",
      "Teknik Kimia Industri : ['elsa@tkim.smeksa.com', 'ilma@tkim.smeksa.com', 'abad@tkim.smeksa.com']\n",
      "invalid = ['ardi@tpm.ac.id', 'alvina@toi.smeksa.id', 'bjorka@smeksa.universe.com', 'duta@son7.com', 'husein@logins3.id']\n"
     ]
    }
   ],
   "source": [
    "mail_student = [\"heru@tkj.smeksa.com\",\"cinta@tkj.smeksa.com\",\"intan@tkj.smeksa.com\",\"rizal@tpm.smeksa.com\",\"husein@tpm.smeksa.com\",\"ardi@tpm.ac.id\",\"alif@tkj.smeksa.com\",\"alvin@titl.smeksa.com\",\"tegar@toi.smeksa.com\",\"lisa@toi.smeksa.com\",\"alvina@toi.smeksa.id\",\"yohanes@titl.smeksa.com\",\"elsa@tkim.smeksa.com\",\"ilma@tkim.smeksa.com\",\"abad@tkim.smeksa.com\",\"bjorka@smeksa.universe.com\",\"duta@son7.com\",\"husein@logins3.id\"]\n",
    "tekaje = [ ]\n",
    "mesin = [ ]\n",
    "listrik = [ ]\n",
    "kimia = [ ]\n",
    "invalid = [ ]\n",
    "for stm in mail_student:\n",
    "  matchtkj = re.fullmatch(\"[a-zA-Z]{3,}.+@tkj\\.smeksa\\.com\",stm)\n",
    "  matchtpm = re.fullmatch(\"[a-zA-Z]{3,}.+@tpm\\.smeksa\\.com\",stm)\n",
    "  matchtitl = re.fullmatch(\"[a-zA-Z]{3,}.+@titl\\.smeksa\\.com\",stm)\n",
    "  matchtoi = re.fullmatch(\"[a-zA-Z]{3,}.+@toi\\.smeksa\\.com\",stm)\n",
    "  matchtkim = re.fullmatch(\"[a-zA-Z]{3,}.+@tkim\\.smeksa\\.com\",stm)\n",
    "  if matchtkj :\n",
    "    tekaje.append(stm)\n",
    "  elif matchtpm :\n",
    "    mesin.append(stm)\n",
    "  elif matchtitl or matchtoi:\n",
    "    listrik.append(stm)\n",
    "  elif matchtkim :\n",
    "    kimia.append(stm)\n",
    "  else :\n",
    "    invalid.append(stm)\n",
    "\n",
    "print(f\"Teknik Jaringan Komputer & Telekomunikasi : {tekaje}\")\n",
    "print(f\"Teknik Permesinan : {mesin}\")\n",
    "print(f\"Teknik Instalasi Teknologi Listrik : {listrik}\")\n",
    "print(f\"Teknik Kimia Industri : {kimia}\")\n",
    "print(f\"invalid = {invalid}\")"
   ]
  }
 ],
 "metadata": {
  "colab": {
   "authorship_tag": "ABX9TyM+8D6dcJX+EDWVpKq1aepl",
   "provenance": []
  },
  "kernelspec": {
   "display_name": "Python 3",
   "name": "python3"
  },
  "language_info": {
   "codemirror_mode": {
    "name": "ipython",
    "version": 3
   },
   "file_extension": ".py",
   "mimetype": "text/x-python",
   "name": "python",
   "nbconvert_exporter": "python",
   "pygments_lexer": "ipython3",
   "version": "3.13.2"
  }
 },
 "nbformat": 4,
 "nbformat_minor": 0
}
