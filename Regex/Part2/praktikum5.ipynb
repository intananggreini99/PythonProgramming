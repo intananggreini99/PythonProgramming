{
  "nbformat": 4,
  "nbformat_minor": 0,
  "metadata": {
    "colab": {
      "provenance": []
    },
    "kernelspec": {
      "name": "python3",
      "display_name": "Python 3"
    },
    "language_info": {
      "name": "python"
    }
  },
  "cells": [
    {
      "cell_type": "code",
      "source": [
        "import re"
      ],
      "metadata": {
        "id": "QmM48n4TuyHN"
      },
      "execution_count": null,
      "outputs": []
    },
    {
      "cell_type": "markdown",
      "source": [
        "# **Exercise 1**"
      ],
      "metadata": {
        "id": "rhW3zTh5uqa2"
      }
    },
    {
      "cell_type": "code",
      "source": [
        "nickname = [\"anaaa\",'intan','Vika','alfian',\"arumi\",\"sania\",\"vikar\",\"andragogi\",\"anda\",\"an__a\",\"Arumi\",\"sania99\",\"dian.a\"]\n",
        "valid = [ ]\n",
        "invalid = [ ]\n",
        "for call in nickname:\n",
        "  match = re.match(\"[a-z]{5,}+$\",call)\n",
        "  if match :\n",
        "    print(f'Nama panggilan siswa \"{call}\" memenuhi persyaratan.')\n",
        "    valid.append(call)\n",
        "  else :\n",
        "    print(f'Nama panggilan tidak valid, segera perbaiki - {call}')\n",
        "    invalid.append(call)\n",
        "\n",
        "print(f\"valid = {valid}\")\n",
        "print(f\"invalid = {invalid}\")"
      ],
      "metadata": {
        "colab": {
          "base_uri": "https://localhost:8080/"
        },
        "id": "urU-iA73uoRB",
        "outputId": "df76cc14-0fd9-4422-9717-19b17d864219"
      },
      "execution_count": null,
      "outputs": [
        {
          "output_type": "stream",
          "name": "stdout",
          "text": [
            "Nama panggilan siswa \"anaaa\" memenuhi persyaratan.\n",
            "Nama panggilan siswa \"intan\" memenuhi persyaratan.\n",
            "Nama panggilan tidak valid, segera perbaiki - Vika\n",
            "Nama panggilan siswa \"alfian\" memenuhi persyaratan.\n",
            "Nama panggilan siswa \"arumi\" memenuhi persyaratan.\n",
            "Nama panggilan siswa \"sania\" memenuhi persyaratan.\n",
            "Nama panggilan siswa \"vikar\" memenuhi persyaratan.\n",
            "Nama panggilan siswa \"andragogi\" memenuhi persyaratan.\n",
            "Nama panggilan tidak valid, segera perbaiki - anda\n",
            "Nama panggilan tidak valid, segera perbaiki - an__a\n",
            "Nama panggilan tidak valid, segera perbaiki - Arumi\n",
            "Nama panggilan tidak valid, segera perbaiki - sania99\n",
            "Nama panggilan tidak valid, segera perbaiki - dian.a\n",
            "valid = ['anaaa', 'intan', 'alfian', 'arumi', 'sania', 'vikar', 'andragogi']\n",
            "invalid = ['Vika', 'anda', 'an__a', 'Arumi', 'sania99', 'dian.a']\n"
          ]
        }
      ]
    },
    {
      "cell_type": "code",
      "source": [
        "username = [\"11anaaa\",\"18arum\",\"30Sania\",\"09vika\",\"43Andreas\",\"67dian.a\",\"andara11\",\"__andri\",\"Arumi10\",\"9sania\",\"dian.a\",\"10Aruumi10\"]\n",
        "valid = [ ]\n",
        "invalid = [ ]\n",
        "for user in username:\n",
        "  match = re.fullmatch(\"\\d{2}[.a-zA-Z]{1,}\",user)\n",
        "  if match :\n",
        "    print(f'Username \"{user}\" memenuhi persyaratan.')\n",
        "    valid.append(user)\n",
        "  else :\n",
        "    print(f'Username tidak valid, segera perbaiki - {user}')\n",
        "    invalid.append(user)\n",
        "\n",
        "print(f\"valid = {valid}\")\n",
        "print(f\"invalid = {invalid}\")"
      ],
      "metadata": {
        "colab": {
          "base_uri": "https://localhost:8080/"
        },
        "id": "c61o_1OVvKRk",
        "outputId": "42708d80-bc2f-41ec-9b74-5498537fd1c1"
      },
      "execution_count": null,
      "outputs": [
        {
          "output_type": "stream",
          "name": "stdout",
          "text": [
            "Username \"11anaaa\" memenuhi persyaratan.\n",
            "Username \"18arum\" memenuhi persyaratan.\n",
            "Username \"30Sania\" memenuhi persyaratan.\n",
            "Username \"09vika\" memenuhi persyaratan.\n",
            "Username \"43Andreas\" memenuhi persyaratan.\n",
            "Username \"67dian.a\" memenuhi persyaratan.\n",
            "Username tidak valid, segera perbaiki - andara11\n",
            "Username tidak valid, segera perbaiki - __andri\n",
            "Username tidak valid, segera perbaiki - Arumi10\n",
            "Username tidak valid, segera perbaiki - 9sania\n",
            "Username tidak valid, segera perbaiki - dian.a\n",
            "Username tidak valid, segera perbaiki - 10Aruumi10\n",
            "valid = ['11anaaa', '18arum', '30Sania', '09vika', '43Andreas', '67dian.a']\n",
            "invalid = ['andara11', '__andri', 'Arumi10', '9sania', 'dian.a', '10Aruumi10']\n"
          ]
        }
      ]
    },
    {
      "cell_type": "code",
      "source": [
        "email_add = [\"Deby@pens.ac.id\",\"amai78@pens.ac.id\",\"lely_aja@pens.ac.id\",\"d4@pens.ac.id\",\"7dian@pens.ac.id\",\"d@pens.ac.id\",\"deby@pens.com\",\"_deby@pens\"]\n",
        "valid = [ ]\n",
        "invalid = [ ]\n",
        "for mail in email_add:\n",
        "  match = re.fullmatch(\"[a-zA-Z]\\w+@[a-z.]+id\",mail)\n",
        "  if match :\n",
        "    print(f'Username \"{mail}\" memenuhi persyaratan.')\n",
        "    valid.append(mail)\n",
        "  else :\n",
        "    print(f'Username tidak valid, segera perbaiki - {mail}')\n",
        "    invalid.append(mail)\n",
        "\n",
        "print(f\"valid = {valid}\")\n",
        "print(f\"invalid = {invalid}\")"
      ],
      "metadata": {
        "colab": {
          "base_uri": "https://localhost:8080/"
        },
        "id": "OCeawJLnwK2P",
        "outputId": "844b07d2-3ee0-43f4-98f6-d9ea05285bfb"
      },
      "execution_count": null,
      "outputs": [
        {
          "output_type": "stream",
          "name": "stdout",
          "text": [
            "Username \"Deby@pens.ac.id\" memenuhi persyaratan.\n",
            "Username \"amai78@pens.ac.id\" memenuhi persyaratan.\n",
            "Username \"lely_aja@pens.ac.id\" memenuhi persyaratan.\n",
            "Username \"d4@pens.ac.id\" memenuhi persyaratan.\n",
            "Username tidak valid, segera perbaiki - 7dian@pens.ac.id\n",
            "Username tidak valid, segera perbaiki - d@pens.ac.id\n",
            "Username tidak valid, segera perbaiki - deby@pens.com\n",
            "Username tidak valid, segera perbaiki - _deby@pens\n",
            "valid = ['Deby@pens.ac.id', 'amai78@pens.ac.id', 'lely_aja@pens.ac.id', 'd4@pens.ac.id']\n",
            "invalid = ['7dian@pens.ac.id', 'd@pens.ac.id', 'deby@pens.com', '_deby@pens']\n"
          ]
        }
      ]
    },
    {
      "cell_type": "code",
      "source": [
        "mail_student = [\"heru@tkj.smeksa.com\",\"cinta@tkj.smeksa.com\",\"intan@tkj.smeksa.com\",\"rizal@tpm.smeksa.com\",\"husein@tpm.smeksa.com\",\"ardi@tpm.ac.id\",\"alif@tkj.smeksa.com\",\"alvin@titl.smeksa.com\",\"tegar@toi.smeksa.com\",\"lisa@toi.smeksa.com\",\"alvina@toi.smeksa.id\",\"yohanes@titl.smeksa.com\",\"elsa@tkim.smeksa.com\",\"ilma@tkim.smeksa.com\",\"abad@tkim.smeksa.com\",\"bjorka@smeksa.universe.com\",\"duta@son7.com\",\"husein@logins3.id\"]\n",
        "tekaje = [ ]\n",
        "mesin = [ ]\n",
        "listrik = [ ]\n",
        "kimia = [ ]\n",
        "invalid = [ ]\n",
        "for stm in mail_student:\n",
        "  matchtkj = re.fullmatch(\"[a-zA-Z]{3,}.+@tkj\\.smeksa\\.com\",stm)\n",
        "  matchtpm = re.fullmatch(\"[a-zA-Z]{3,}.+@tpm\\.smeksa\\.com\",stm)\n",
        "  matchtitl = re.fullmatch(\"[a-zA-Z]{3,}.+@titl\\.smeksa\\.com\",stm)\n",
        "  matchtoi = re.fullmatch(\"[a-zA-Z]{3,}.+@toi\\.smeksa\\.com\",stm)\n",
        "  matchtkim = re.fullmatch(\"[a-zA-Z]{3,}.+@tkim\\.smeksa\\.com\",stm)\n",
        "  if matchtkj :\n",
        "    tekaje.append(stm)\n",
        "  elif matchtpm :\n",
        "    mesin.append(stm)\n",
        "  elif matchtitl or matchtoi:\n",
        "    listrik.append(stm)\n",
        "  elif matchtkim :\n",
        "    kimia.append(stm)\n",
        "  else :\n",
        "    invalid.append(stm)\n",
        "\n",
        "print(f\"Teknik Jaringan Komputer & Telekomunikasi : {tekaje}\")\n",
        "print(f\"Teknik Permesinan : {mesin}\")\n",
        "print(f\"Teknik Instalasi Teknologi Listrik : {listrik}\")\n",
        "print(f\"Teknik Kimia Industri : {kimia}\")\n",
        "print(f\"invalid = {invalid}\")"
      ],
      "metadata": {
        "colab": {
          "base_uri": "https://localhost:8080/"
        },
        "id": "N1wnzmt_vzSw",
        "outputId": "1a743467-6339-47c5-eabe-0cb114203a79"
      },
      "execution_count": null,
      "outputs": [
        {
          "output_type": "stream",
          "name": "stdout",
          "text": [
            "Teknik Jaringan Komputer & Telekomunikasi : ['heru@tkj.smeksa.com', 'cinta@tkj.smeksa.com', 'intan@tkj.smeksa.com', 'alif@tkj.smeksa.com']\n",
            "Teknik Permesinan : ['rizal@tpm.smeksa.com', 'husein@tpm.smeksa.com']\n",
            "Teknik Instalasi Teknologi Listrik : ['alvin@titl.smeksa.com', 'tegar@toi.smeksa.com', 'lisa@toi.smeksa.com', 'yohanes@titl.smeksa.com']\n",
            "Teknik Kimia Industri : ['elsa@tkim.smeksa.com', 'ilma@tkim.smeksa.com', 'abad@tkim.smeksa.com']\n",
            "invalid = ['ardi@tpm.ac.id', 'alvina@toi.smeksa.id', 'bjorka@smeksa.universe.com', 'duta@son7.com', 'husein@logins3.id']\n"
          ]
        }
      ]
    },
    {
      "cell_type": "code",
      "execution_count": null,
      "metadata": {
        "colab": {
          "base_uri": "https://localhost:8080/",
          "height": 160
        },
        "id": "JdfJ3WXyoK5d",
        "outputId": "1e808353-1dce-488f-d3ba-fc59fd7ae1d3"
      },
      "outputs": [
        {
          "output_type": "display_data",
          "data": {
            "text/plain": [
              "<IPython.core.display.HTML object>"
            ],
            "text/html": [
              "\n",
              "     <input type=\"file\" id=\"files-1d798140-6fb6-41fe-89f1-461b83b14292\" name=\"files[]\" multiple disabled\n",
              "        style=\"border:none\" />\n",
              "     <output id=\"result-1d798140-6fb6-41fe-89f1-461b83b14292\">\n",
              "      Upload widget is only available when the cell has been executed in the\n",
              "      current browser session. Please rerun this cell to enable.\n",
              "      </output>\n",
              "      <script>// Copyright 2017 Google LLC\n",
              "//\n",
              "// Licensed under the Apache License, Version 2.0 (the \"License\");\n",
              "// you may not use this file except in compliance with the License.\n",
              "// You may obtain a copy of the License at\n",
              "//\n",
              "//      http://www.apache.org/licenses/LICENSE-2.0\n",
              "//\n",
              "// Unless required by applicable law or agreed to in writing, software\n",
              "// distributed under the License is distributed on an \"AS IS\" BASIS,\n",
              "// WITHOUT WARRANTIES OR CONDITIONS OF ANY KIND, either express or implied.\n",
              "// See the License for the specific language governing permissions and\n",
              "// limitations under the License.\n",
              "\n",
              "/**\n",
              " * @fileoverview Helpers for google.colab Python module.\n",
              " */\n",
              "(function(scope) {\n",
              "function span(text, styleAttributes = {}) {\n",
              "  const element = document.createElement('span');\n",
              "  element.textContent = text;\n",
              "  for (const key of Object.keys(styleAttributes)) {\n",
              "    element.style[key] = styleAttributes[key];\n",
              "  }\n",
              "  return element;\n",
              "}\n",
              "\n",
              "// Max number of bytes which will be uploaded at a time.\n",
              "const MAX_PAYLOAD_SIZE = 100 * 1024;\n",
              "\n",
              "function _uploadFiles(inputId, outputId) {\n",
              "  const steps = uploadFilesStep(inputId, outputId);\n",
              "  const outputElement = document.getElementById(outputId);\n",
              "  // Cache steps on the outputElement to make it available for the next call\n",
              "  // to uploadFilesContinue from Python.\n",
              "  outputElement.steps = steps;\n",
              "\n",
              "  return _uploadFilesContinue(outputId);\n",
              "}\n",
              "\n",
              "// This is roughly an async generator (not supported in the browser yet),\n",
              "// where there are multiple asynchronous steps and the Python side is going\n",
              "// to poll for completion of each step.\n",
              "// This uses a Promise to block the python side on completion of each step,\n",
              "// then passes the result of the previous step as the input to the next step.\n",
              "function _uploadFilesContinue(outputId) {\n",
              "  const outputElement = document.getElementById(outputId);\n",
              "  const steps = outputElement.steps;\n",
              "\n",
              "  const next = steps.next(outputElement.lastPromiseValue);\n",
              "  return Promise.resolve(next.value.promise).then((value) => {\n",
              "    // Cache the last promise value to make it available to the next\n",
              "    // step of the generator.\n",
              "    outputElement.lastPromiseValue = value;\n",
              "    return next.value.response;\n",
              "  });\n",
              "}\n",
              "\n",
              "/**\n",
              " * Generator function which is called between each async step of the upload\n",
              " * process.\n",
              " * @param {string} inputId Element ID of the input file picker element.\n",
              " * @param {string} outputId Element ID of the output display.\n",
              " * @return {!Iterable<!Object>} Iterable of next steps.\n",
              " */\n",
              "function* uploadFilesStep(inputId, outputId) {\n",
              "  const inputElement = document.getElementById(inputId);\n",
              "  inputElement.disabled = false;\n",
              "\n",
              "  const outputElement = document.getElementById(outputId);\n",
              "  outputElement.innerHTML = '';\n",
              "\n",
              "  const pickedPromise = new Promise((resolve) => {\n",
              "    inputElement.addEventListener('change', (e) => {\n",
              "      resolve(e.target.files);\n",
              "    });\n",
              "  });\n",
              "\n",
              "  const cancel = document.createElement('button');\n",
              "  inputElement.parentElement.appendChild(cancel);\n",
              "  cancel.textContent = 'Cancel upload';\n",
              "  const cancelPromise = new Promise((resolve) => {\n",
              "    cancel.onclick = () => {\n",
              "      resolve(null);\n",
              "    };\n",
              "  });\n",
              "\n",
              "  // Wait for the user to pick the files.\n",
              "  const files = yield {\n",
              "    promise: Promise.race([pickedPromise, cancelPromise]),\n",
              "    response: {\n",
              "      action: 'starting',\n",
              "    }\n",
              "  };\n",
              "\n",
              "  cancel.remove();\n",
              "\n",
              "  // Disable the input element since further picks are not allowed.\n",
              "  inputElement.disabled = true;\n",
              "\n",
              "  if (!files) {\n",
              "    return {\n",
              "      response: {\n",
              "        action: 'complete',\n",
              "      }\n",
              "    };\n",
              "  }\n",
              "\n",
              "  for (const file of files) {\n",
              "    const li = document.createElement('li');\n",
              "    li.append(span(file.name, {fontWeight: 'bold'}));\n",
              "    li.append(span(\n",
              "        `(${file.type || 'n/a'}) - ${file.size} bytes, ` +\n",
              "        `last modified: ${\n",
              "            file.lastModifiedDate ? file.lastModifiedDate.toLocaleDateString() :\n",
              "                                    'n/a'} - `));\n",
              "    const percent = span('0% done');\n",
              "    li.appendChild(percent);\n",
              "\n",
              "    outputElement.appendChild(li);\n",
              "\n",
              "    const fileDataPromise = new Promise((resolve) => {\n",
              "      const reader = new FileReader();\n",
              "      reader.onload = (e) => {\n",
              "        resolve(e.target.result);\n",
              "      };\n",
              "      reader.readAsArrayBuffer(file);\n",
              "    });\n",
              "    // Wait for the data to be ready.\n",
              "    let fileData = yield {\n",
              "      promise: fileDataPromise,\n",
              "      response: {\n",
              "        action: 'continue',\n",
              "      }\n",
              "    };\n",
              "\n",
              "    // Use a chunked sending to avoid message size limits. See b/62115660.\n",
              "    let position = 0;\n",
              "    do {\n",
              "      const length = Math.min(fileData.byteLength - position, MAX_PAYLOAD_SIZE);\n",
              "      const chunk = new Uint8Array(fileData, position, length);\n",
              "      position += length;\n",
              "\n",
              "      const base64 = btoa(String.fromCharCode.apply(null, chunk));\n",
              "      yield {\n",
              "        response: {\n",
              "          action: 'append',\n",
              "          file: file.name,\n",
              "          data: base64,\n",
              "        },\n",
              "      };\n",
              "\n",
              "      let percentDone = fileData.byteLength === 0 ?\n",
              "          100 :\n",
              "          Math.round((position / fileData.byteLength) * 100);\n",
              "      percent.textContent = `${percentDone}% done`;\n",
              "\n",
              "    } while (position < fileData.byteLength);\n",
              "  }\n",
              "\n",
              "  // All done.\n",
              "  yield {\n",
              "    response: {\n",
              "      action: 'complete',\n",
              "    }\n",
              "  };\n",
              "}\n",
              "\n",
              "scope.google = scope.google || {};\n",
              "scope.google.colab = scope.google.colab || {};\n",
              "scope.google.colab._files = {\n",
              "  _uploadFiles,\n",
              "  _uploadFilesContinue,\n",
              "};\n",
              "})(self);\n",
              "</script> "
            ]
          },
          "metadata": {}
        },
        {
          "output_type": "stream",
          "name": "stdout",
          "text": [
            "Saving berita.txt to berita.txt\n",
            "Saving cleaned.csv to cleaned.csv\n",
            "Saving reviews_dataset_updated.csv to reviews_dataset_updated.csv\n",
            "['anscombe.json\\t\\t     california_housing_train.csv  mnist_train_small.csv', 'berita.txt\\t\\t     cleaned.csv\\t\\t   README.md', 'california_housing_test.csv  mnist_test.csv\\t\\t   reviews_dataset_updated.csv']\n"
          ]
        }
      ],
      "source": [
        "from google.colab import files\n",
        "file = files.upload()\n",
        "!mv /content/berita.txt cleaned.csv reviews_dataset_updated.csv /content/sample_data/\n",
        "upp = !ls /content/sample_data\n",
        "print(upp)"
      ]
    },
    {
      "cell_type": "markdown",
      "source": [
        "# **Exercise 2**"
      ],
      "metadata": {
        "id": "eOqybYJjupUx"
      }
    },
    {
      "cell_type": "code",
      "source": [
        "with open(\"/content/sample_data/berita.txt\", 'r') as doc:\n",
        "    rdoc1 = doc.read()\n",
        "word = re.split(\"\\s+\",rdoc1)\n",
        "result = [ ]\n",
        "for kata in word:\n",
        "  match = re.search(\"(PENS)\",kata)\n",
        "  if match :\n",
        "    result.append(match.group())\n",
        "    break\n",
        "for kata in word:\n",
        "  match = re.search(\"(SK)\",kata)\n",
        "  if match :\n",
        "    result.append(match.group())\n",
        "    break\n",
        "print(result)"
      ],
      "metadata": {
        "colab": {
          "base_uri": "https://localhost:8080/"
        },
        "id": "aGS8t95ZcSiB",
        "outputId": "3de98954-cf12-4ffc-e9dd-8e0444905d75"
      },
      "execution_count": null,
      "outputs": [
        {
          "output_type": "stream",
          "name": "stdout",
          "text": [
            "['PENS', 'SK']\n"
          ]
        }
      ]
    },
    {
      "cell_type": "markdown",
      "source": [
        "# **Exercise 3**"
      ],
      "metadata": {
        "id": "j-wqJRd9Gwg_"
      }
    },
    {
      "cell_type": "code",
      "source": [
        "with open(\"/content/sample_data/berita.txt\", 'r') as doc:\n",
        "    rdoc1 = doc.read()\n",
        "judulOrasi = re.findall('(?<=judul orasi ilmiah)+\\s.+?(?=\\.)',rdoc1, flags=re.IGNORECASE)\n",
        "for i, judul in enumerate(judulOrasi):\n",
        "  print(f\"Judul {i+1} : {judul}\")"
      ],
      "metadata": {
        "colab": {
          "base_uri": "https://localhost:8080/"
        },
        "id": "fIvv1zLIpGWp",
        "outputId": "a2b14305-162b-4e44-8d05-1a8e2ff1cfec"
      },
      "execution_count": null,
      "outputs": [
        {
          "output_type": "stream",
          "name": "stdout",
          "text": [
            "Judul 1 :  Pengembangan Technology Vector Control untuk Technology Electric Drive pada Dunia Industri Transportation Era Industri\n",
            "Judul 2 :  Pengembangan Teknologi Kriptografi Berbasis Sinyal sebagai Inovasi Baru dalam Keamanan Jaringan Komunikasi di Indonesia\n",
            "Judul 3 :  Penerapan Electrical Power Train untuk Mendukung Elektrifikasi Mesin Pertanian Padi Indonesia Kedepan\n",
            "Judul 4 :  Sistem Mekatronika Cerdas: dari Teori, Menuju Kompetisi dan Implementasi\n",
            "Judul 5 :  Peranan Komunikasi Sensor Nirkabel dalam Menunjang Program Indonesia yang mengangkat dua bidang utama, yakni pemetaan bencana dan pertanian\n"
          ]
        }
      ]
    },
    {
      "cell_type": "markdown",
      "source": [
        "# **Exercise 4**"
      ],
      "metadata": {
        "id": "2m_5vqSuGt9w"
      }
    },
    {
      "cell_type": "code",
      "source": [
        "with open(\"/content/sample_data/berita.txt\", 'r') as doc:\n",
        "    rdoc1 = doc.read()\n",
        "lnProf =set(re.findall(r'(?<=Prof.)|(?<=Prof.)\\s.+?(?=\\,)',rdoc1))\n",
        "for i, name in enumerate(lnProf):\n",
        "  print(f\"Professor {i+1} : {name}\")"
      ],
      "metadata": {
        "colab": {
          "base_uri": "https://localhost:8080/"
        },
        "id": "91lKVtXv0Oc3",
        "outputId": "b35eba46-b816-433c-9afd-2b5dbef03c8d"
      },
      "execution_count": null,
      "outputs": [
        {
          "output_type": "stream",
          "name": "stdout",
          "text": [
            "Professor 1 : \n",
            "Professor 2 :  Dr. Ir. Era Purwanto\n",
            "Professor 3 :  Dr. Mike Yuliana\n",
            "Professor 4 :  Moch. Zen Samsono Hadi\n",
            "Professor 5 :  Mochammad Zen Samsono Hadi\n",
            "Professor 6 :  Dr.Eng. Indra Adji Sulistijono\n",
            "Professor 7 :  Dr. Arman Jaya\n"
          ]
        }
      ]
    },
    {
      "cell_type": "code",
      "source": [
        "import re\n",
        "\n",
        "with open(\"/content/sample_data/berita.txt\", 'r') as doc:\n",
        "    rdoc1 = doc.read()\n",
        "InProf = set(re.findall(r'\\b(?:Prof\\.|Prof\\. Dr\\.|Prof\\. Dr\\. Ir\\.|Prof\\. Dr\\.Eng\\.)\\s.+?(?=\\,)\\b', rdoc1))\n",
        "profName = [ ]\n",
        "for cname in lnProf:\n",
        "  cleanName = re.sub(r'Dr\\.(?: Ir\\.|Eng\\.)?', '', cname)\n",
        "  profName.append(cleanName)\n",
        "print(sorted(set(profName)))"
      ],
      "metadata": {
        "colab": {
          "base_uri": "https://localhost:8080/"
        },
        "id": "1zINwyv4xvG7",
        "outputId": "0b8a84cb-c231-4ac6-fdef-a809bdfa363f"
      },
      "execution_count": null,
      "outputs": [
        {
          "output_type": "stream",
          "name": "stdout",
          "text": [
            "['', '  Arman Jaya', '  Era Purwanto', '  Indra Adji Sulistijono', '  Mike Yuliana', ' Moch. Zen Samsono Hadi', ' Mochammad Zen Samsono Hadi']\n"
          ]
        }
      ]
    },
    {
      "cell_type": "markdown",
      "source": [
        "# **Exercise 5**"
      ],
      "metadata": {
        "id": "Qt3lcEa94K9h"
      }
    },
    {
      "cell_type": "code",
      "source": [
        "import pandas as pd\n",
        "import re\n",
        "\n",
        "def cleaning(text):\n",
        "    text = re.sub(r'[^\\w\\s]', '', text)\n",
        "    text = re.sub(r'\\d+', '', text)\n",
        "    return text.lower()\n",
        "\n",
        "def process_reviews(inFile, outFile):\n",
        "    data = pd.read_csv(input_file)\n",
        "\n",
        "    data['clean_review'] = data['review_text'].astype(str).apply(cleaning)\n",
        "    data.to_csv(output_file, index=False)\n",
        "    mvFile = !mv /content/cleaned.csv /content/sample_data/\n",
        "    print(f\"File telah disimpan sebagai {output_file} pada direktori /content/cleaned.csv /content/sample_data/\")\n",
        "\n",
        "input_file = \"/content/sample_data/reviews_dataset_updated.csv\"  # Ubah sesuai lokasi file\n",
        "output_file = \"cleaned.csv\"\n",
        "process_reviews(input_file, output_file)\n"
      ],
      "metadata": {
        "colab": {
          "base_uri": "https://localhost:8080/"
        },
        "id": "vUZsd8XVNXnw",
        "outputId": "cb91b753-c90d-4c73-9d1e-a1221183ac4e"
      },
      "execution_count": null,
      "outputs": [
        {
          "output_type": "stream",
          "name": "stdout",
          "text": [
            "File telah disimpan sebagai cleaned.csv pada direktori /content/cleaned.csv /content/sample_data/\n"
          ]
        }
      ]
    }
  ]
}